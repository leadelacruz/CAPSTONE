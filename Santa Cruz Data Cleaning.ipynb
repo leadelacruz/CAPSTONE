{
 "cells": [
  {
   "cell_type": "markdown",
   "metadata": {},
   "source": [
    "# Santa Cruz: Data Cleaning "
   ]
  },
  {
   "cell_type": "code",
   "execution_count": 1,
   "metadata": {},
   "outputs": [],
   "source": [
    "# ! pip install langdetect"
   ]
  },
  {
   "cell_type": "code",
   "execution_count": 2,
   "metadata": {},
   "outputs": [],
   "source": [
    "import pandas as pd\n",
    "import ast\n",
    "from langdetect import detect\n",
    "\n",
    "pd.set_option(\"display.max_columns\", 100)\n",
    "pd.set_option(\"display.max_rows\", 100)"
   ]
  },
  {
   "cell_type": "code",
   "execution_count": 3,
   "metadata": {},
   "outputs": [],
   "source": [
    "listing = pd.read_csv('./data/Santa_Cruz_listings.csv')\n",
    "review = pd.read_csv('./data/Santa_Cruz_reviews.csv')"
   ]
  },
  {
   "cell_type": "code",
   "execution_count": 4,
   "metadata": {},
   "outputs": [
    {
     "name": "stdout",
     "output_type": "stream",
     "text": [
      "Shape for Santa Cruz Listings CSV: (1255, 74)\n",
      "Shape for Santa Cruz Reviews CSV: (95238, 6)\n"
     ]
    }
   ],
   "source": [
    "print(f'Shape for Santa Cruz Listings CSV: {listing.shape}')\n",
    "print(f'Shape for Santa Cruz Reviews CSV: {review.shape}')"
   ]
  },
  {
   "cell_type": "markdown",
   "metadata": {},
   "source": [
    "## Cleaning Review csv file"
   ]
  },
  {
   "cell_type": "code",
   "execution_count": 5,
   "metadata": {
    "scrolled": true
   },
   "outputs": [
    {
     "data": {
      "text/html": [
       "<div>\n",
       "<style scoped>\n",
       "    .dataframe tbody tr th:only-of-type {\n",
       "        vertical-align: middle;\n",
       "    }\n",
       "\n",
       "    .dataframe tbody tr th {\n",
       "        vertical-align: top;\n",
       "    }\n",
       "\n",
       "    .dataframe thead th {\n",
       "        text-align: right;\n",
       "    }\n",
       "</style>\n",
       "<table border=\"1\" class=\"dataframe\">\n",
       "  <thead>\n",
       "    <tr style=\"text-align: right;\">\n",
       "      <th></th>\n",
       "      <th>listing_id</th>\n",
       "      <th>id</th>\n",
       "      <th>date</th>\n",
       "      <th>reviewer_id</th>\n",
       "      <th>reviewer_name</th>\n",
       "      <th>comments</th>\n",
       "    </tr>\n",
       "  </thead>\n",
       "  <tbody>\n",
       "    <tr>\n",
       "      <th>0</th>\n",
       "      <td>11879</td>\n",
       "      <td>77106</td>\n",
       "      <td>2010-08-11</td>\n",
       "      <td>174171</td>\n",
       "      <td>Kelly</td>\n",
       "      <td>Very kind soul, accommodating, welcoming... ma...</td>\n",
       "    </tr>\n",
       "    <tr>\n",
       "      <th>1</th>\n",
       "      <td>11879</td>\n",
       "      <td>4453240</td>\n",
       "      <td>2013-05-06</td>\n",
       "      <td>5769319</td>\n",
       "      <td>Kristen</td>\n",
       "      <td>Tired of slick/sterile hotel/motel rooms?  Thi...</td>\n",
       "    </tr>\n",
       "    <tr>\n",
       "      <th>2</th>\n",
       "      <td>11879</td>\n",
       "      <td>14718383</td>\n",
       "      <td>2014-06-24</td>\n",
       "      <td>778621</td>\n",
       "      <td>Mona</td>\n",
       "      <td>The stay at Steve's house was awesome. Steve i...</td>\n",
       "    </tr>\n",
       "    <tr>\n",
       "      <th>3</th>\n",
       "      <td>11879</td>\n",
       "      <td>33286462</td>\n",
       "      <td>2015-05-26</td>\n",
       "      <td>5831887</td>\n",
       "      <td>Karen</td>\n",
       "      <td>Steve is a very nice guy and the place was ver...</td>\n",
       "    </tr>\n",
       "    <tr>\n",
       "      <th>4</th>\n",
       "      <td>11879</td>\n",
       "      <td>35873459</td>\n",
       "      <td>2015-06-22</td>\n",
       "      <td>26993254</td>\n",
       "      <td>Alice</td>\n",
       "      <td>enjoyed my stay in aptos,  loved the beach and...</td>\n",
       "    </tr>\n",
       "  </tbody>\n",
       "</table>\n",
       "</div>"
      ],
      "text/plain": [
       "   listing_id        id        date  reviewer_id reviewer_name  \\\n",
       "0       11879     77106  2010-08-11       174171         Kelly   \n",
       "1       11879   4453240  2013-05-06      5769319       Kristen   \n",
       "2       11879  14718383  2014-06-24       778621          Mona   \n",
       "3       11879  33286462  2015-05-26      5831887         Karen   \n",
       "4       11879  35873459  2015-06-22     26993254         Alice   \n",
       "\n",
       "                                            comments  \n",
       "0  Very kind soul, accommodating, welcoming... ma...  \n",
       "1  Tired of slick/sterile hotel/motel rooms?  Thi...  \n",
       "2  The stay at Steve's house was awesome. Steve i...  \n",
       "3  Steve is a very nice guy and the place was ver...  \n",
       "4  enjoyed my stay in aptos,  loved the beach and...  "
      ]
     },
     "execution_count": 5,
     "metadata": {},
     "output_type": "execute_result"
    }
   ],
   "source": [
    "review.head()"
   ]
  },
  {
   "cell_type": "markdown",
   "metadata": {},
   "source": [
    "Dropping unnecessary columns."
   ]
  },
  {
   "cell_type": "code",
   "execution_count": 6,
   "metadata": {},
   "outputs": [],
   "source": [
    "review.drop(columns = ['id',\n",
    "                       'reviewer_id',\n",
    "                       'reviewer_name'],\n",
    "            inplace = True)"
   ]
  },
  {
   "cell_type": "markdown",
   "metadata": {},
   "source": [
    "Dropping all rows with null values since they contain no content."
   ]
  },
  {
   "cell_type": "code",
   "execution_count": 7,
   "metadata": {},
   "outputs": [
    {
     "data": {
      "text/plain": [
       "listing_id     0\n",
       "date           0\n",
       "comments      37\n",
       "dtype: int64"
      ]
     },
     "execution_count": 7,
     "metadata": {},
     "output_type": "execute_result"
    }
   ],
   "source": [
    "review.isnull().sum()"
   ]
  },
  {
   "cell_type": "code",
   "execution_count": 8,
   "metadata": {},
   "outputs": [],
   "source": [
    "review = review.dropna()"
   ]
  },
  {
   "cell_type": "markdown",
   "metadata": {},
   "source": [
    "#### Minimizing the dataframe"
   ]
  },
  {
   "cell_type": "markdown",
   "metadata": {},
   "source": [
    "Removing all reviews that are not from 2019 to minimize the data."
   ]
  },
  {
   "cell_type": "code",
   "execution_count": 9,
   "metadata": {},
   "outputs": [],
   "source": [
    "review = review[(review['date'] >= '2018-01-01') & (review['date'] <= '2019-12-31')]"
   ]
  },
  {
   "cell_type": "markdown",
   "metadata": {},
   "source": [
    "Remove all reviews that are less than 5 words."
   ]
  },
  {
   "cell_type": "code",
   "execution_count": 10,
   "metadata": {},
   "outputs": [],
   "source": [
    "review = review[review['comments'].str.count(' ') > 4]"
   ]
  },
  {
   "cell_type": "markdown",
   "metadata": {},
   "source": [
    "Remove all reviews that are not in English."
   ]
  },
  {
   "cell_type": "code",
   "execution_count": 11,
   "metadata": {},
   "outputs": [],
   "source": [
    "review.drop([i for i in review[review['comments'].apply(detect) != 'en'].index], inplace=True)"
   ]
  },
  {
   "cell_type": "markdown",
   "metadata": {},
   "source": [
    "Remove '\\n' since this is just an indicator for a line break."
   ]
  },
  {
   "cell_type": "code",
   "execution_count": 12,
   "metadata": {},
   "outputs": [],
   "source": [
    "review['comments'] = review['comments'].str.replace('\\n', '')"
   ]
  },
  {
   "cell_type": "markdown",
   "metadata": {},
   "source": [
    "Removing any numbers from the comments."
   ]
  },
  {
   "cell_type": "code",
   "execution_count": 13,
   "metadata": {},
   "outputs": [],
   "source": [
    "review['comments'] = review['comments'].replace('\\d+', '', regex=True)"
   ]
  },
  {
   "cell_type": "markdown",
   "metadata": {},
   "source": [
    "Removing reviews written in Asian languages."
   ]
  },
  {
   "cell_type": "code",
   "execution_count": 14,
   "metadata": {},
   "outputs": [],
   "source": [
    "review.drop([i for i in review[review['comments'].str.contains(r'[^\\x00-\\x7F]+') == True].index], inplace = True)"
   ]
  },
  {
   "cell_type": "markdown",
   "metadata": {},
   "source": [
    "Removing rows where the comments were generated by AirBnb due to the host cancelling a booked reservation."
   ]
  },
  {
   "cell_type": "code",
   "execution_count": 15,
   "metadata": {},
   "outputs": [],
   "source": [
    "review.drop([i for i in review[review['comments'].str.contains('This is an automated posting') == True].index], inplace = True)"
   ]
  },
  {
   "cell_type": "markdown",
   "metadata": {},
   "source": [
    "## Cleaning Listing csv file"
   ]
  },
  {
   "cell_type": "code",
   "execution_count": 16,
   "metadata": {
    "scrolled": false
   },
   "outputs": [
    {
     "data": {
      "text/html": [
       "<div>\n",
       "<style scoped>\n",
       "    .dataframe tbody tr th:only-of-type {\n",
       "        vertical-align: middle;\n",
       "    }\n",
       "\n",
       "    .dataframe tbody tr th {\n",
       "        vertical-align: top;\n",
       "    }\n",
       "\n",
       "    .dataframe thead th {\n",
       "        text-align: right;\n",
       "    }\n",
       "</style>\n",
       "<table border=\"1\" class=\"dataframe\">\n",
       "  <thead>\n",
       "    <tr style=\"text-align: right;\">\n",
       "      <th></th>\n",
       "      <th>id</th>\n",
       "      <th>listing_url</th>\n",
       "      <th>scrape_id</th>\n",
       "      <th>last_scraped</th>\n",
       "      <th>name</th>\n",
       "      <th>description</th>\n",
       "      <th>neighborhood_overview</th>\n",
       "      <th>picture_url</th>\n",
       "      <th>host_id</th>\n",
       "      <th>host_url</th>\n",
       "      <th>host_name</th>\n",
       "      <th>host_since</th>\n",
       "      <th>host_location</th>\n",
       "      <th>host_about</th>\n",
       "      <th>host_response_time</th>\n",
       "      <th>host_response_rate</th>\n",
       "      <th>host_acceptance_rate</th>\n",
       "      <th>host_is_superhost</th>\n",
       "      <th>host_thumbnail_url</th>\n",
       "      <th>host_picture_url</th>\n",
       "      <th>host_neighbourhood</th>\n",
       "      <th>host_listings_count</th>\n",
       "      <th>host_total_listings_count</th>\n",
       "      <th>host_verifications</th>\n",
       "      <th>host_has_profile_pic</th>\n",
       "      <th>host_identity_verified</th>\n",
       "      <th>neighbourhood</th>\n",
       "      <th>neighbourhood_cleansed</th>\n",
       "      <th>neighbourhood_group_cleansed</th>\n",
       "      <th>latitude</th>\n",
       "      <th>longitude</th>\n",
       "      <th>property_type</th>\n",
       "      <th>room_type</th>\n",
       "      <th>accommodates</th>\n",
       "      <th>bathrooms</th>\n",
       "      <th>bathrooms_text</th>\n",
       "      <th>bedrooms</th>\n",
       "      <th>beds</th>\n",
       "      <th>amenities</th>\n",
       "      <th>price</th>\n",
       "      <th>minimum_nights</th>\n",
       "      <th>maximum_nights</th>\n",
       "      <th>minimum_minimum_nights</th>\n",
       "      <th>maximum_minimum_nights</th>\n",
       "      <th>minimum_maximum_nights</th>\n",
       "      <th>maximum_maximum_nights</th>\n",
       "      <th>minimum_nights_avg_ntm</th>\n",
       "      <th>maximum_nights_avg_ntm</th>\n",
       "      <th>calendar_updated</th>\n",
       "      <th>has_availability</th>\n",
       "      <th>availability_30</th>\n",
       "      <th>availability_60</th>\n",
       "      <th>availability_90</th>\n",
       "      <th>availability_365</th>\n",
       "      <th>calendar_last_scraped</th>\n",
       "      <th>number_of_reviews</th>\n",
       "      <th>number_of_reviews_ltm</th>\n",
       "      <th>number_of_reviews_l30d</th>\n",
       "      <th>first_review</th>\n",
       "      <th>last_review</th>\n",
       "      <th>review_scores_rating</th>\n",
       "      <th>review_scores_accuracy</th>\n",
       "      <th>review_scores_cleanliness</th>\n",
       "      <th>review_scores_checkin</th>\n",
       "      <th>review_scores_communication</th>\n",
       "      <th>review_scores_location</th>\n",
       "      <th>review_scores_value</th>\n",
       "      <th>license</th>\n",
       "      <th>instant_bookable</th>\n",
       "      <th>calculated_host_listings_count</th>\n",
       "      <th>calculated_host_listings_count_entire_homes</th>\n",
       "      <th>calculated_host_listings_count_private_rooms</th>\n",
       "      <th>calculated_host_listings_count_shared_rooms</th>\n",
       "      <th>reviews_per_month</th>\n",
       "    </tr>\n",
       "  </thead>\n",
       "  <tbody>\n",
       "    <tr>\n",
       "      <th>0</th>\n",
       "      <td>11879</td>\n",
       "      <td>https://www.airbnb.com/rooms/11879</td>\n",
       "      <td>20210227173810</td>\n",
       "      <td>2021-03-01</td>\n",
       "      <td>Sunny room close to beach and parks</td>\n",
       "      <td>Sunny room in a cozy home with a 40 acre park ...</td>\n",
       "      <td>NaN</td>\n",
       "      <td>https://a0.muscache.com/pictures/5acb8501-4855...</td>\n",
       "      <td>44764</td>\n",
       "      <td>https://www.airbnb.com/users/show/44764</td>\n",
       "      <td>Steven</td>\n",
       "      <td>2009-10-09</td>\n",
       "      <td>Aptos, California, United States</td>\n",
       "      <td>Easygoing, environmentalist, musician/educator...</td>\n",
       "      <td>within a few hours</td>\n",
       "      <td>92%</td>\n",
       "      <td>69%</td>\n",
       "      <td>t</td>\n",
       "      <td>https://z0.muscache.cn/im/pictures/user/f62740...</td>\n",
       "      <td>https://z0.muscache.cn/im/pictures/user/f62740...</td>\n",
       "      <td>Santa Cruz</td>\n",
       "      <td>4</td>\n",
       "      <td>4</td>\n",
       "      <td>['email', 'phone', 'facebook', 'reviews']</td>\n",
       "      <td>t</td>\n",
       "      <td>f</td>\n",
       "      <td>NaN</td>\n",
       "      <td>Unincorporated Areas</td>\n",
       "      <td>NaN</td>\n",
       "      <td>36.98186</td>\n",
       "      <td>-121.88114</td>\n",
       "      <td>Private room in house</td>\n",
       "      <td>Private room</td>\n",
       "      <td>2</td>\n",
       "      <td>NaN</td>\n",
       "      <td>1 shared bath</td>\n",
       "      <td>1.0</td>\n",
       "      <td>1.0</td>\n",
       "      <td>[\"Extra pillows and blankets\", \"Free street pa...</td>\n",
       "      <td>$75.00</td>\n",
       "      <td>2</td>\n",
       "      <td>30</td>\n",
       "      <td>2</td>\n",
       "      <td>2</td>\n",
       "      <td>30</td>\n",
       "      <td>30</td>\n",
       "      <td>2.0</td>\n",
       "      <td>30.0</td>\n",
       "      <td>NaN</td>\n",
       "      <td>t</td>\n",
       "      <td>20</td>\n",
       "      <td>50</td>\n",
       "      <td>80</td>\n",
       "      <td>169</td>\n",
       "      <td>2021-03-01</td>\n",
       "      <td>60</td>\n",
       "      <td>14</td>\n",
       "      <td>3</td>\n",
       "      <td>2010-08-11</td>\n",
       "      <td>2021-02-24</td>\n",
       "      <td>97.0</td>\n",
       "      <td>10.0</td>\n",
       "      <td>9.0</td>\n",
       "      <td>10.0</td>\n",
       "      <td>10.0</td>\n",
       "      <td>10.0</td>\n",
       "      <td>10.0</td>\n",
       "      <td>NaN</td>\n",
       "      <td>f</td>\n",
       "      <td>3</td>\n",
       "      <td>2</td>\n",
       "      <td>1</td>\n",
       "      <td>0</td>\n",
       "      <td>0.47</td>\n",
       "    </tr>\n",
       "    <tr>\n",
       "      <th>1</th>\n",
       "      <td>24548</td>\n",
       "      <td>https://www.airbnb.com/rooms/24548</td>\n",
       "      <td>20210227173810</td>\n",
       "      <td>2021-02-28</td>\n",
       "      <td>Room with Private Entrance.</td>\n",
       "      <td>Bedroom and bath with private entrance in home...</td>\n",
       "      <td>Great location close to Santa Cruz Harbor and ...</td>\n",
       "      <td>https://a0.muscache.com/pictures/cf8d43fd-90c1...</td>\n",
       "      <td>99532</td>\n",
       "      <td>https://www.airbnb.com/users/show/99532</td>\n",
       "      <td>Kerstin</td>\n",
       "      <td>2010-03-26</td>\n",
       "      <td>Santa Cruz, California, United States</td>\n",
       "      <td>Easy going and friendly I like to think.\\r\\n\\r...</td>\n",
       "      <td>within an hour</td>\n",
       "      <td>100%</td>\n",
       "      <td>93%</td>\n",
       "      <td>t</td>\n",
       "      <td>https://a0.muscache.com/im/pictures/user/ff3b6...</td>\n",
       "      <td>https://a0.muscache.com/im/pictures/user/ff3b6...</td>\n",
       "      <td>Santa Cruz</td>\n",
       "      <td>1</td>\n",
       "      <td>1</td>\n",
       "      <td>['email', 'phone', 'facebook', 'reviews', 'kba']</td>\n",
       "      <td>t</td>\n",
       "      <td>f</td>\n",
       "      <td>Santa Cruz, California, United States</td>\n",
       "      <td>City of Santa Cruz</td>\n",
       "      <td>NaN</td>\n",
       "      <td>36.97167</td>\n",
       "      <td>-121.99774</td>\n",
       "      <td>Private room in house</td>\n",
       "      <td>Private room</td>\n",
       "      <td>2</td>\n",
       "      <td>NaN</td>\n",
       "      <td>1 private bath</td>\n",
       "      <td>1.0</td>\n",
       "      <td>1.0</td>\n",
       "      <td>[\"Dedicated workspace\", \"Carbon monoxide alarm...</td>\n",
       "      <td>$100.00</td>\n",
       "      <td>2</td>\n",
       "      <td>5</td>\n",
       "      <td>2</td>\n",
       "      <td>2</td>\n",
       "      <td>5</td>\n",
       "      <td>5</td>\n",
       "      <td>2.0</td>\n",
       "      <td>5.0</td>\n",
       "      <td>NaN</td>\n",
       "      <td>t</td>\n",
       "      <td>0</td>\n",
       "      <td>0</td>\n",
       "      <td>0</td>\n",
       "      <td>0</td>\n",
       "      <td>2021-02-28</td>\n",
       "      <td>479</td>\n",
       "      <td>20</td>\n",
       "      <td>0</td>\n",
       "      <td>2010-04-24</td>\n",
       "      <td>2020-11-23</td>\n",
       "      <td>99.0</td>\n",
       "      <td>10.0</td>\n",
       "      <td>10.0</td>\n",
       "      <td>10.0</td>\n",
       "      <td>10.0</td>\n",
       "      <td>10.0</td>\n",
       "      <td>10.0</td>\n",
       "      <td>NaN</td>\n",
       "      <td>f</td>\n",
       "      <td>1</td>\n",
       "      <td>0</td>\n",
       "      <td>1</td>\n",
       "      <td>0</td>\n",
       "      <td>3.63</td>\n",
       "    </tr>\n",
       "    <tr>\n",
       "      <th>2</th>\n",
       "      <td>31721</td>\n",
       "      <td>https://www.airbnb.com/rooms/31721</td>\n",
       "      <td>20210227173810</td>\n",
       "      <td>2021-03-01</td>\n",
       "      <td>Dog Friendly Private Pleasure Point Beach Cottage</td>\n",
       "      <td>*LOCATION LOCATION LOCATION* &lt;br /&gt;Welcome to ...</td>\n",
       "      <td>I love everything about this neighborhood.  I ...</td>\n",
       "      <td>https://a0.muscache.com/pictures/73aa203a-cb53...</td>\n",
       "      <td>136376</td>\n",
       "      <td>https://www.airbnb.com/users/show/136376</td>\n",
       "      <td>Annie</td>\n",
       "      <td>2010-06-01</td>\n",
       "      <td>Santa Cruz, California, United States</td>\n",
       "      <td>Hey Airbnb folks thanks for taking the time to...</td>\n",
       "      <td>within a few hours</td>\n",
       "      <td>97%</td>\n",
       "      <td>75%</td>\n",
       "      <td>f</td>\n",
       "      <td>https://a0.muscache.com/im/users/136376/profil...</td>\n",
       "      <td>https://a0.muscache.com/im/users/136376/profil...</td>\n",
       "      <td>Santa Cruz</td>\n",
       "      <td>2</td>\n",
       "      <td>2</td>\n",
       "      <td>['email', 'phone', 'facebook', 'reviews', 'kba']</td>\n",
       "      <td>t</td>\n",
       "      <td>f</td>\n",
       "      <td>Santa Cruz, California, United States</td>\n",
       "      <td>City of Capitola</td>\n",
       "      <td>NaN</td>\n",
       "      <td>36.95849</td>\n",
       "      <td>-121.97207</td>\n",
       "      <td>Entire cottage</td>\n",
       "      <td>Entire home/apt</td>\n",
       "      <td>3</td>\n",
       "      <td>NaN</td>\n",
       "      <td>1 bath</td>\n",
       "      <td>1.0</td>\n",
       "      <td>1.0</td>\n",
       "      <td>[\"Dedicated workspace\", \"Carbon monoxide alarm...</td>\n",
       "      <td>$179.00</td>\n",
       "      <td>4</td>\n",
       "      <td>90</td>\n",
       "      <td>2</td>\n",
       "      <td>4</td>\n",
       "      <td>90</td>\n",
       "      <td>90</td>\n",
       "      <td>4.0</td>\n",
       "      <td>90.0</td>\n",
       "      <td>NaN</td>\n",
       "      <td>t</td>\n",
       "      <td>1</td>\n",
       "      <td>1</td>\n",
       "      <td>1</td>\n",
       "      <td>1</td>\n",
       "      <td>2021-03-01</td>\n",
       "      <td>222</td>\n",
       "      <td>40</td>\n",
       "      <td>1</td>\n",
       "      <td>2012-11-26</td>\n",
       "      <td>2021-01-31</td>\n",
       "      <td>95.0</td>\n",
       "      <td>10.0</td>\n",
       "      <td>9.0</td>\n",
       "      <td>10.0</td>\n",
       "      <td>10.0</td>\n",
       "      <td>10.0</td>\n",
       "      <td>9.0</td>\n",
       "      <td>NaN</td>\n",
       "      <td>f</td>\n",
       "      <td>2</td>\n",
       "      <td>2</td>\n",
       "      <td>0</td>\n",
       "      <td>0</td>\n",
       "      <td>2.21</td>\n",
       "    </tr>\n",
       "    <tr>\n",
       "      <th>3</th>\n",
       "      <td>43785</td>\n",
       "      <td>https://www.airbnb.com/rooms/43785</td>\n",
       "      <td>20210227173810</td>\n",
       "      <td>2021-03-01</td>\n",
       "      <td>Guest bedroom in Victorian home</td>\n",
       "      <td>&lt;b&gt;The space&lt;/b&gt;&lt;br /&gt;A redwood-floored, sun-f...</td>\n",
       "      <td>The West side of Santa Cruz is an extension, u...</td>\n",
       "      <td>https://a0.muscache.com/pictures/305117/1a131d...</td>\n",
       "      <td>191477</td>\n",
       "      <td>https://www.airbnb.com/users/show/191477</td>\n",
       "      <td>Caroline</td>\n",
       "      <td>2010-08-04</td>\n",
       "      <td>Santa Cruz, California, United States</td>\n",
       "      <td>I am a phonetician, speech technologist, and l...</td>\n",
       "      <td>within an hour</td>\n",
       "      <td>100%</td>\n",
       "      <td>53%</td>\n",
       "      <td>t</td>\n",
       "      <td>https://a0.muscache.com/im/users/191477/profil...</td>\n",
       "      <td>https://a0.muscache.com/im/users/191477/profil...</td>\n",
       "      <td>Santa Cruz</td>\n",
       "      <td>1</td>\n",
       "      <td>1</td>\n",
       "      <td>['email', 'phone', 'reviews', 'offline_governm...</td>\n",
       "      <td>t</td>\n",
       "      <td>t</td>\n",
       "      <td>Santa Cruz, California, United States</td>\n",
       "      <td>City of Santa Cruz</td>\n",
       "      <td>NaN</td>\n",
       "      <td>36.97694</td>\n",
       "      <td>-122.03600</td>\n",
       "      <td>Private room in house</td>\n",
       "      <td>Private room</td>\n",
       "      <td>2</td>\n",
       "      <td>NaN</td>\n",
       "      <td>1 private bath</td>\n",
       "      <td>1.0</td>\n",
       "      <td>2.0</td>\n",
       "      <td>[\"Extra pillows and blankets\", \"Free street pa...</td>\n",
       "      <td>$85.00</td>\n",
       "      <td>2</td>\n",
       "      <td>30</td>\n",
       "      <td>2</td>\n",
       "      <td>2</td>\n",
       "      <td>30</td>\n",
       "      <td>30</td>\n",
       "      <td>2.0</td>\n",
       "      <td>30.0</td>\n",
       "      <td>NaN</td>\n",
       "      <td>t</td>\n",
       "      <td>2</td>\n",
       "      <td>32</td>\n",
       "      <td>62</td>\n",
       "      <td>332</td>\n",
       "      <td>2021-03-01</td>\n",
       "      <td>446</td>\n",
       "      <td>14</td>\n",
       "      <td>1</td>\n",
       "      <td>2010-08-30</td>\n",
       "      <td>2021-02-07</td>\n",
       "      <td>97.0</td>\n",
       "      <td>10.0</td>\n",
       "      <td>10.0</td>\n",
       "      <td>10.0</td>\n",
       "      <td>10.0</td>\n",
       "      <td>10.0</td>\n",
       "      <td>10.0</td>\n",
       "      <td>NaN</td>\n",
       "      <td>f</td>\n",
       "      <td>1</td>\n",
       "      <td>0</td>\n",
       "      <td>1</td>\n",
       "      <td>0</td>\n",
       "      <td>3.49</td>\n",
       "    </tr>\n",
       "    <tr>\n",
       "      <th>4</th>\n",
       "      <td>49520</td>\n",
       "      <td>https://www.airbnb.com/rooms/49520</td>\n",
       "      <td>20210227173810</td>\n",
       "      <td>2021-03-01</td>\n",
       "      <td>Guest Cottage with shared bath</td>\n",
       "      <td>30 day minimum&lt;br /&gt;Tiny garden cottage with a...</td>\n",
       "      <td>NaN</td>\n",
       "      <td>https://a0.muscache.com/pictures/892035/5dffd6...</td>\n",
       "      <td>225721</td>\n",
       "      <td>https://www.airbnb.com/users/show/225721</td>\n",
       "      <td>Christine</td>\n",
       "      <td>2010-09-06</td>\n",
       "      <td>Santa Cruz, California, United States</td>\n",
       "      <td>I am an over employed PA in love with the coun...</td>\n",
       "      <td>within a few hours</td>\n",
       "      <td>100%</td>\n",
       "      <td>14%</td>\n",
       "      <td>f</td>\n",
       "      <td>https://a0.muscache.com/im/users/225721/profil...</td>\n",
       "      <td>https://a0.muscache.com/im/users/225721/profil...</td>\n",
       "      <td>NaN</td>\n",
       "      <td>2</td>\n",
       "      <td>2</td>\n",
       "      <td>['email', 'phone', 'facebook', 'reviews']</td>\n",
       "      <td>t</td>\n",
       "      <td>f</td>\n",
       "      <td>NaN</td>\n",
       "      <td>Unincorporated Areas</td>\n",
       "      <td>NaN</td>\n",
       "      <td>36.96325</td>\n",
       "      <td>-121.82091</td>\n",
       "      <td>Private room in apartment</td>\n",
       "      <td>Private room</td>\n",
       "      <td>2</td>\n",
       "      <td>NaN</td>\n",
       "      <td>NaN</td>\n",
       "      <td>1.0</td>\n",
       "      <td>1.0</td>\n",
       "      <td>[\"Washer\", \"Heating\", \"Microwave\", \"Dishes and...</td>\n",
       "      <td>$95.00</td>\n",
       "      <td>30</td>\n",
       "      <td>30</td>\n",
       "      <td>30</td>\n",
       "      <td>30</td>\n",
       "      <td>30</td>\n",
       "      <td>30</td>\n",
       "      <td>30.0</td>\n",
       "      <td>30.0</td>\n",
       "      <td>NaN</td>\n",
       "      <td>t</td>\n",
       "      <td>0</td>\n",
       "      <td>0</td>\n",
       "      <td>0</td>\n",
       "      <td>0</td>\n",
       "      <td>2021-03-01</td>\n",
       "      <td>145</td>\n",
       "      <td>0</td>\n",
       "      <td>0</td>\n",
       "      <td>2011-06-28</td>\n",
       "      <td>2018-09-15</td>\n",
       "      <td>94.0</td>\n",
       "      <td>10.0</td>\n",
       "      <td>9.0</td>\n",
       "      <td>10.0</td>\n",
       "      <td>10.0</td>\n",
       "      <td>9.0</td>\n",
       "      <td>9.0</td>\n",
       "      <td>NaN</td>\n",
       "      <td>f</td>\n",
       "      <td>2</td>\n",
       "      <td>0</td>\n",
       "      <td>2</td>\n",
       "      <td>0</td>\n",
       "      <td>1.23</td>\n",
       "    </tr>\n",
       "  </tbody>\n",
       "</table>\n",
       "</div>"
      ],
      "text/plain": [
       "      id                         listing_url       scrape_id last_scraped  \\\n",
       "0  11879  https://www.airbnb.com/rooms/11879  20210227173810   2021-03-01   \n",
       "1  24548  https://www.airbnb.com/rooms/24548  20210227173810   2021-02-28   \n",
       "2  31721  https://www.airbnb.com/rooms/31721  20210227173810   2021-03-01   \n",
       "3  43785  https://www.airbnb.com/rooms/43785  20210227173810   2021-03-01   \n",
       "4  49520  https://www.airbnb.com/rooms/49520  20210227173810   2021-03-01   \n",
       "\n",
       "                                                name  \\\n",
       "0                Sunny room close to beach and parks   \n",
       "1                        Room with Private Entrance.   \n",
       "2  Dog Friendly Private Pleasure Point Beach Cottage   \n",
       "3                    Guest bedroom in Victorian home   \n",
       "4                     Guest Cottage with shared bath   \n",
       "\n",
       "                                         description  \\\n",
       "0  Sunny room in a cozy home with a 40 acre park ...   \n",
       "1  Bedroom and bath with private entrance in home...   \n",
       "2  *LOCATION LOCATION LOCATION* <br />Welcome to ...   \n",
       "3  <b>The space</b><br />A redwood-floored, sun-f...   \n",
       "4  30 day minimum<br />Tiny garden cottage with a...   \n",
       "\n",
       "                               neighborhood_overview  \\\n",
       "0                                                NaN   \n",
       "1  Great location close to Santa Cruz Harbor and ...   \n",
       "2  I love everything about this neighborhood.  I ...   \n",
       "3  The West side of Santa Cruz is an extension, u...   \n",
       "4                                                NaN   \n",
       "\n",
       "                                         picture_url  host_id  \\\n",
       "0  https://a0.muscache.com/pictures/5acb8501-4855...    44764   \n",
       "1  https://a0.muscache.com/pictures/cf8d43fd-90c1...    99532   \n",
       "2  https://a0.muscache.com/pictures/73aa203a-cb53...   136376   \n",
       "3  https://a0.muscache.com/pictures/305117/1a131d...   191477   \n",
       "4  https://a0.muscache.com/pictures/892035/5dffd6...   225721   \n",
       "\n",
       "                                   host_url  host_name  host_since  \\\n",
       "0   https://www.airbnb.com/users/show/44764     Steven  2009-10-09   \n",
       "1   https://www.airbnb.com/users/show/99532    Kerstin  2010-03-26   \n",
       "2  https://www.airbnb.com/users/show/136376      Annie  2010-06-01   \n",
       "3  https://www.airbnb.com/users/show/191477   Caroline  2010-08-04   \n",
       "4  https://www.airbnb.com/users/show/225721  Christine  2010-09-06   \n",
       "\n",
       "                           host_location  \\\n",
       "0       Aptos, California, United States   \n",
       "1  Santa Cruz, California, United States   \n",
       "2  Santa Cruz, California, United States   \n",
       "3  Santa Cruz, California, United States   \n",
       "4  Santa Cruz, California, United States   \n",
       "\n",
       "                                          host_about  host_response_time  \\\n",
       "0  Easygoing, environmentalist, musician/educator...  within a few hours   \n",
       "1  Easy going and friendly I like to think.\\r\\n\\r...      within an hour   \n",
       "2  Hey Airbnb folks thanks for taking the time to...  within a few hours   \n",
       "3  I am a phonetician, speech technologist, and l...      within an hour   \n",
       "4  I am an over employed PA in love with the coun...  within a few hours   \n",
       "\n",
       "  host_response_rate host_acceptance_rate host_is_superhost  \\\n",
       "0                92%                  69%                 t   \n",
       "1               100%                  93%                 t   \n",
       "2                97%                  75%                 f   \n",
       "3               100%                  53%                 t   \n",
       "4               100%                  14%                 f   \n",
       "\n",
       "                                  host_thumbnail_url  \\\n",
       "0  https://z0.muscache.cn/im/pictures/user/f62740...   \n",
       "1  https://a0.muscache.com/im/pictures/user/ff3b6...   \n",
       "2  https://a0.muscache.com/im/users/136376/profil...   \n",
       "3  https://a0.muscache.com/im/users/191477/profil...   \n",
       "4  https://a0.muscache.com/im/users/225721/profil...   \n",
       "\n",
       "                                    host_picture_url host_neighbourhood  \\\n",
       "0  https://z0.muscache.cn/im/pictures/user/f62740...         Santa Cruz   \n",
       "1  https://a0.muscache.com/im/pictures/user/ff3b6...         Santa Cruz   \n",
       "2  https://a0.muscache.com/im/users/136376/profil...         Santa Cruz   \n",
       "3  https://a0.muscache.com/im/users/191477/profil...         Santa Cruz   \n",
       "4  https://a0.muscache.com/im/users/225721/profil...                NaN   \n",
       "\n",
       "   host_listings_count  host_total_listings_count  \\\n",
       "0                    4                          4   \n",
       "1                    1                          1   \n",
       "2                    2                          2   \n",
       "3                    1                          1   \n",
       "4                    2                          2   \n",
       "\n",
       "                                  host_verifications host_has_profile_pic  \\\n",
       "0          ['email', 'phone', 'facebook', 'reviews']                    t   \n",
       "1   ['email', 'phone', 'facebook', 'reviews', 'kba']                    t   \n",
       "2   ['email', 'phone', 'facebook', 'reviews', 'kba']                    t   \n",
       "3  ['email', 'phone', 'reviews', 'offline_governm...                    t   \n",
       "4          ['email', 'phone', 'facebook', 'reviews']                    t   \n",
       "\n",
       "  host_identity_verified                          neighbourhood  \\\n",
       "0                      f                                    NaN   \n",
       "1                      f  Santa Cruz, California, United States   \n",
       "2                      f  Santa Cruz, California, United States   \n",
       "3                      t  Santa Cruz, California, United States   \n",
       "4                      f                                    NaN   \n",
       "\n",
       "  neighbourhood_cleansed  neighbourhood_group_cleansed  latitude  longitude  \\\n",
       "0   Unincorporated Areas                           NaN  36.98186 -121.88114   \n",
       "1     City of Santa Cruz                           NaN  36.97167 -121.99774   \n",
       "2       City of Capitola                           NaN  36.95849 -121.97207   \n",
       "3     City of Santa Cruz                           NaN  36.97694 -122.03600   \n",
       "4   Unincorporated Areas                           NaN  36.96325 -121.82091   \n",
       "\n",
       "               property_type        room_type  accommodates  bathrooms  \\\n",
       "0      Private room in house     Private room             2        NaN   \n",
       "1      Private room in house     Private room             2        NaN   \n",
       "2             Entire cottage  Entire home/apt             3        NaN   \n",
       "3      Private room in house     Private room             2        NaN   \n",
       "4  Private room in apartment     Private room             2        NaN   \n",
       "\n",
       "   bathrooms_text  bedrooms  beds  \\\n",
       "0   1 shared bath       1.0   1.0   \n",
       "1  1 private bath       1.0   1.0   \n",
       "2          1 bath       1.0   1.0   \n",
       "3  1 private bath       1.0   2.0   \n",
       "4             NaN       1.0   1.0   \n",
       "\n",
       "                                           amenities    price  minimum_nights  \\\n",
       "0  [\"Extra pillows and blankets\", \"Free street pa...   $75.00               2   \n",
       "1  [\"Dedicated workspace\", \"Carbon monoxide alarm...  $100.00               2   \n",
       "2  [\"Dedicated workspace\", \"Carbon monoxide alarm...  $179.00               4   \n",
       "3  [\"Extra pillows and blankets\", \"Free street pa...   $85.00               2   \n",
       "4  [\"Washer\", \"Heating\", \"Microwave\", \"Dishes and...   $95.00              30   \n",
       "\n",
       "   maximum_nights  minimum_minimum_nights  maximum_minimum_nights  \\\n",
       "0              30                       2                       2   \n",
       "1               5                       2                       2   \n",
       "2              90                       2                       4   \n",
       "3              30                       2                       2   \n",
       "4              30                      30                      30   \n",
       "\n",
       "   minimum_maximum_nights  maximum_maximum_nights  minimum_nights_avg_ntm  \\\n",
       "0                      30                      30                     2.0   \n",
       "1                       5                       5                     2.0   \n",
       "2                      90                      90                     4.0   \n",
       "3                      30                      30                     2.0   \n",
       "4                      30                      30                    30.0   \n",
       "\n",
       "   maximum_nights_avg_ntm  calendar_updated has_availability  availability_30  \\\n",
       "0                    30.0               NaN                t               20   \n",
       "1                     5.0               NaN                t                0   \n",
       "2                    90.0               NaN                t                1   \n",
       "3                    30.0               NaN                t                2   \n",
       "4                    30.0               NaN                t                0   \n",
       "\n",
       "   availability_60  availability_90  availability_365 calendar_last_scraped  \\\n",
       "0               50               80               169            2021-03-01   \n",
       "1                0                0                 0            2021-02-28   \n",
       "2                1                1                 1            2021-03-01   \n",
       "3               32               62               332            2021-03-01   \n",
       "4                0                0                 0            2021-03-01   \n",
       "\n",
       "   number_of_reviews  number_of_reviews_ltm  number_of_reviews_l30d  \\\n",
       "0                 60                     14                       3   \n",
       "1                479                     20                       0   \n",
       "2                222                     40                       1   \n",
       "3                446                     14                       1   \n",
       "4                145                      0                       0   \n",
       "\n",
       "  first_review last_review  review_scores_rating  review_scores_accuracy  \\\n",
       "0   2010-08-11  2021-02-24                  97.0                    10.0   \n",
       "1   2010-04-24  2020-11-23                  99.0                    10.0   \n",
       "2   2012-11-26  2021-01-31                  95.0                    10.0   \n",
       "3   2010-08-30  2021-02-07                  97.0                    10.0   \n",
       "4   2011-06-28  2018-09-15                  94.0                    10.0   \n",
       "\n",
       "   review_scores_cleanliness  review_scores_checkin  \\\n",
       "0                        9.0                   10.0   \n",
       "1                       10.0                   10.0   \n",
       "2                        9.0                   10.0   \n",
       "3                       10.0                   10.0   \n",
       "4                        9.0                   10.0   \n",
       "\n",
       "   review_scores_communication  review_scores_location  review_scores_value  \\\n",
       "0                         10.0                    10.0                 10.0   \n",
       "1                         10.0                    10.0                 10.0   \n",
       "2                         10.0                    10.0                  9.0   \n",
       "3                         10.0                    10.0                 10.0   \n",
       "4                         10.0                     9.0                  9.0   \n",
       "\n",
       "   license instant_bookable  calculated_host_listings_count  \\\n",
       "0      NaN                f                               3   \n",
       "1      NaN                f                               1   \n",
       "2      NaN                f                               2   \n",
       "3      NaN                f                               1   \n",
       "4      NaN                f                               2   \n",
       "\n",
       "   calculated_host_listings_count_entire_homes  \\\n",
       "0                                            2   \n",
       "1                                            0   \n",
       "2                                            2   \n",
       "3                                            0   \n",
       "4                                            0   \n",
       "\n",
       "   calculated_host_listings_count_private_rooms  \\\n",
       "0                                             1   \n",
       "1                                             1   \n",
       "2                                             0   \n",
       "3                                             1   \n",
       "4                                             2   \n",
       "\n",
       "   calculated_host_listings_count_shared_rooms  reviews_per_month  \n",
       "0                                            0               0.47  \n",
       "1                                            0               3.63  \n",
       "2                                            0               2.21  \n",
       "3                                            0               3.49  \n",
       "4                                            0               1.23  "
      ]
     },
     "execution_count": 16,
     "metadata": {},
     "output_type": "execute_result"
    }
   ],
   "source": [
    "listing.head()"
   ]
  },
  {
   "cell_type": "code",
   "execution_count": 17,
   "metadata": {},
   "outputs": [
    {
     "data": {
      "text/plain": [
       "8239"
      ]
     },
     "execution_count": 17,
     "metadata": {},
     "output_type": "execute_result"
    }
   ],
   "source": [
    "listing.isnull().sum().sum()"
   ]
  },
  {
   "cell_type": "code",
   "execution_count": 18,
   "metadata": {
    "scrolled": true
   },
   "outputs": [
    {
     "data": {
      "text/plain": [
       "id                                                 0\n",
       "listing_url                                        0\n",
       "scrape_id                                          0\n",
       "last_scraped                                       0\n",
       "name                                               0\n",
       "description                                       16\n",
       "neighborhood_overview                            308\n",
       "picture_url                                        0\n",
       "host_id                                            0\n",
       "host_url                                           0\n",
       "host_name                                          0\n",
       "host_since                                         0\n",
       "host_location                                      1\n",
       "host_about                                       364\n",
       "host_response_time                               111\n",
       "host_response_rate                               111\n",
       "host_acceptance_rate                              69\n",
       "host_is_superhost                                  0\n",
       "host_thumbnail_url                                 0\n",
       "host_picture_url                                   0\n",
       "host_neighbourhood                               461\n",
       "host_listings_count                                0\n",
       "host_total_listings_count                          0\n",
       "host_verifications                                 0\n",
       "host_has_profile_pic                               0\n",
       "host_identity_verified                             0\n",
       "neighbourhood                                    308\n",
       "neighbourhood_cleansed                             0\n",
       "neighbourhood_group_cleansed                    1255\n",
       "latitude                                           0\n",
       "longitude                                          0\n",
       "property_type                                      0\n",
       "room_type                                          0\n",
       "accommodates                                       0\n",
       "bathrooms                                       1255\n",
       "bathrooms_text                                     2\n",
       "bedrooms                                         104\n",
       "beds                                               1\n",
       "amenities                                          0\n",
       "price                                              0\n",
       "minimum_nights                                     0\n",
       "maximum_nights                                     0\n",
       "minimum_minimum_nights                             0\n",
       "maximum_minimum_nights                             0\n",
       "minimum_maximum_nights                             0\n",
       "maximum_maximum_nights                             0\n",
       "minimum_nights_avg_ntm                             0\n",
       "maximum_nights_avg_ntm                             0\n",
       "calendar_updated                                1255\n",
       "has_availability                                   0\n",
       "availability_30                                    0\n",
       "availability_60                                    0\n",
       "availability_90                                    0\n",
       "availability_365                                   0\n",
       "calendar_last_scraped                              0\n",
       "number_of_reviews                                  0\n",
       "number_of_reviews_ltm                              0\n",
       "number_of_reviews_l30d                             0\n",
       "first_review                                     126\n",
       "last_review                                      126\n",
       "review_scores_rating                             136\n",
       "review_scores_accuracy                           142\n",
       "review_scores_cleanliness                        142\n",
       "review_scores_checkin                            142\n",
       "review_scores_communication                      141\n",
       "review_scores_location                           141\n",
       "review_scores_value                              141\n",
       "license                                         1255\n",
       "instant_bookable                                   0\n",
       "calculated_host_listings_count                     0\n",
       "calculated_host_listings_count_entire_homes        0\n",
       "calculated_host_listings_count_private_rooms       0\n",
       "calculated_host_listings_count_shared_rooms        0\n",
       "reviews_per_month                                126\n",
       "dtype: int64"
      ]
     },
     "execution_count": 18,
     "metadata": {},
     "output_type": "execute_result"
    }
   ],
   "source": [
    "listing.isnull().sum()"
   ]
  },
  {
   "cell_type": "markdown",
   "metadata": {},
   "source": [
    "### Dropping Columns"
   ]
  },
  {
   "cell_type": "markdown",
   "metadata": {},
   "source": [
    "Columns with no relevant information"
   ]
  },
  {
   "cell_type": "code",
   "execution_count": 19,
   "metadata": {},
   "outputs": [],
   "source": [
    "listing.drop(columns = ['last_scraped',                         \n",
    "                        'license',\n",
    "                        'host_id',\n",
    "                        'scrape_id',                            \n",
    "                        'listing_url',                          \n",
    "                        'picture_url',                          \n",
    "                        'host_url',                             \n",
    "                        'host_thumbnail_url',                   \n",
    "                        'host_picture_url',                     \n",
    "                        'host_name',                            \n",
    "                        'host_verifications',\n",
    "                        'calendar_last_scraped',\n",
    "                        'host_neighbourhood',\n",
    "                        'host_location',\n",
    "                        'host_response_rate',\n",
    "                        'availability_30',\n",
    "                        'availability_60',\n",
    "                        'availability_90',\n",
    "                        'availability_365',\n",
    "                        'number_of_reviews_ltm',\n",
    "                        'number_of_reviews_l30d',\n",
    "                        'calculated_host_listings_count',\n",
    "                        'calculated_host_listings_count_entire_homes',\n",
    "                        'calculated_host_listings_count_private_rooms',\n",
    "                        'calculated_host_listings_count_shared_rooms'],\n",
    "            inplace = True)"
   ]
  },
  {
   "cell_type": "markdown",
   "metadata": {},
   "source": [
    "All values are nulls"
   ]
  },
  {
   "cell_type": "code",
   "execution_count": 20,
   "metadata": {},
   "outputs": [],
   "source": [
    "listing.drop(columns = ['calendar_updated',                     \n",
    "                        'neighbourhood_group_cleansed',         \n",
    "                        'bathrooms'],\n",
    "            inplace = True)"
   ]
  },
  {
   "cell_type": "markdown",
   "metadata": {},
   "source": [
    "Repeat values from other columns"
   ]
  },
  {
   "cell_type": "code",
   "execution_count": 21,
   "metadata": {},
   "outputs": [],
   "source": [
    "listing.drop(columns = ['minimum_minimum_nights',               \n",
    "                        'maximum_minimum_nights',               \n",
    "                        'minimum_maximum_nights',              \n",
    "                        'maximum_maximum_nights',               \n",
    "                        'minimum_nights_avg_ntm',               \n",
    "                        'maximum_nights_avg_ntm',               \n",
    "                        'neighbourhood',\n",
    "                        'host_total_listings_count',\n",
    "                        'beds',\n",
    "                        'room_type'],                       \n",
    "            inplace = True)"
   ]
  },
  {
   "cell_type": "markdown",
   "metadata": {},
   "source": [
    "Almost all values are the same"
   ]
  },
  {
   "cell_type": "code",
   "execution_count": 22,
   "metadata": {},
   "outputs": [],
   "source": [
    "listing.drop(columns = ['host_has_profile_pic',\n",
    "                        'has_availability'], \n",
    "            inplace = True)"
   ]
  },
  {
   "cell_type": "markdown",
   "metadata": {},
   "source": [
    "Dropping column due to multicollinearity"
   ]
  },
  {
   "cell_type": "code",
   "execution_count": 23,
   "metadata": {},
   "outputs": [],
   "source": [
    "listing.drop(columns = ['host_identity_verified',\n",
    "                        'host_is_superhost'],\n",
    "             inplace = True)"
   ]
  },
  {
   "cell_type": "markdown",
   "metadata": {},
   "source": [
    "### Dropping Nulls"
   ]
  },
  {
   "cell_type": "markdown",
   "metadata": {},
   "source": [
    "The rows with no description are also missing data for many other rows."
   ]
  },
  {
   "cell_type": "code",
   "execution_count": 24,
   "metadata": {},
   "outputs": [],
   "source": [
    "listing.dropna(subset=['description'], inplace = True)"
   ]
  },
  {
   "cell_type": "markdown",
   "metadata": {},
   "source": [
    "Since these rows have no values for these columns, it is implied that they had no reviews."
   ]
  },
  {
   "cell_type": "code",
   "execution_count": 25,
   "metadata": {},
   "outputs": [],
   "source": [
    "listing.dropna(subset=['first_review',\n",
    "                       'last_review',\n",
    "                       'review_scores_rating',\n",
    "                       'review_scores_accuracy',\n",
    "                       'review_scores_cleanliness',\n",
    "                       'review_scores_checkin',\n",
    "                       'review_scores_communication',\n",
    "                       'review_scores_location',\n",
    "                       'review_scores_value'],\n",
    "               inplace = True)"
   ]
  },
  {
   "cell_type": "markdown",
   "metadata": {},
   "source": [
    "### Imputing Nulls"
   ]
  },
  {
   "cell_type": "markdown",
   "metadata": {},
   "source": [
    "Filling the nulls with 'No Content' because there are 308 nulls for 'neighborhood_overview' and 364 nulls for 'host_about'."
   ]
  },
  {
   "cell_type": "code",
   "execution_count": 26,
   "metadata": {},
   "outputs": [],
   "source": [
    "listing['neighborhood_overview'].fillna('No Content', inplace = True)\n",
    "listing['host_about'].fillna('No Content', inplace = True)"
   ]
  },
  {
   "cell_type": "markdown",
   "metadata": {},
   "source": [
    "Filling the null values for 'host_response_time' with 'within a few hours'."
   ]
  },
  {
   "cell_type": "code",
   "execution_count": 27,
   "metadata": {},
   "outputs": [
    {
     "data": {
      "text/plain": [
       "within an hour        661\n",
       "within a few hours    208\n",
       "within a day          145\n",
       "a few days or more     18\n",
       "Name: host_response_time, dtype: int64"
      ]
     },
     "execution_count": 27,
     "metadata": {},
     "output_type": "execute_result"
    }
   ],
   "source": [
    "listing['host_response_time'].value_counts()"
   ]
  },
  {
   "cell_type": "code",
   "execution_count": 28,
   "metadata": {},
   "outputs": [],
   "source": [
    "listing['host_response_time'].fillna('within a few hours', inplace = True)"
   ]
  },
  {
   "cell_type": "markdown",
   "metadata": {},
   "source": [
    "Filling in the 2 nulls for 'bathroom_text' with '1 bath' since it is for a listing of a private room only, it most likely has only 1 bathroom available."
   ]
  },
  {
   "cell_type": "code",
   "execution_count": 29,
   "metadata": {},
   "outputs": [
    {
     "data": {
      "text/html": [
       "<div>\n",
       "<style scoped>\n",
       "    .dataframe tbody tr th:only-of-type {\n",
       "        vertical-align: middle;\n",
       "    }\n",
       "\n",
       "    .dataframe tbody tr th {\n",
       "        vertical-align: top;\n",
       "    }\n",
       "\n",
       "    .dataframe thead th {\n",
       "        text-align: right;\n",
       "    }\n",
       "</style>\n",
       "<table border=\"1\" class=\"dataframe\">\n",
       "  <thead>\n",
       "    <tr style=\"text-align: right;\">\n",
       "      <th></th>\n",
       "      <th>id</th>\n",
       "      <th>name</th>\n",
       "      <th>description</th>\n",
       "      <th>neighborhood_overview</th>\n",
       "      <th>host_since</th>\n",
       "      <th>host_about</th>\n",
       "      <th>host_response_time</th>\n",
       "      <th>host_acceptance_rate</th>\n",
       "      <th>host_listings_count</th>\n",
       "      <th>neighbourhood_cleansed</th>\n",
       "      <th>latitude</th>\n",
       "      <th>longitude</th>\n",
       "      <th>property_type</th>\n",
       "      <th>accommodates</th>\n",
       "      <th>bathrooms_text</th>\n",
       "      <th>bedrooms</th>\n",
       "      <th>amenities</th>\n",
       "      <th>price</th>\n",
       "      <th>minimum_nights</th>\n",
       "      <th>maximum_nights</th>\n",
       "      <th>number_of_reviews</th>\n",
       "      <th>first_review</th>\n",
       "      <th>last_review</th>\n",
       "      <th>review_scores_rating</th>\n",
       "      <th>review_scores_accuracy</th>\n",
       "      <th>review_scores_cleanliness</th>\n",
       "      <th>review_scores_checkin</th>\n",
       "      <th>review_scores_communication</th>\n",
       "      <th>review_scores_location</th>\n",
       "      <th>review_scores_value</th>\n",
       "      <th>instant_bookable</th>\n",
       "      <th>reviews_per_month</th>\n",
       "    </tr>\n",
       "  </thead>\n",
       "  <tbody>\n",
       "    <tr>\n",
       "      <th>4</th>\n",
       "      <td>49520</td>\n",
       "      <td>Guest Cottage with shared bath</td>\n",
       "      <td>30 day minimum&lt;br /&gt;Tiny garden cottage with a...</td>\n",
       "      <td>No Content</td>\n",
       "      <td>2010-09-06</td>\n",
       "      <td>I am an over employed PA in love with the coun...</td>\n",
       "      <td>within a few hours</td>\n",
       "      <td>14%</td>\n",
       "      <td>2</td>\n",
       "      <td>Unincorporated Areas</td>\n",
       "      <td>36.96325</td>\n",
       "      <td>-121.82091</td>\n",
       "      <td>Private room in apartment</td>\n",
       "      <td>2</td>\n",
       "      <td>NaN</td>\n",
       "      <td>1.0</td>\n",
       "      <td>[\"Washer\", \"Heating\", \"Microwave\", \"Dishes and...</td>\n",
       "      <td>$95.00</td>\n",
       "      <td>30</td>\n",
       "      <td>30</td>\n",
       "      <td>145</td>\n",
       "      <td>2011-06-28</td>\n",
       "      <td>2018-09-15</td>\n",
       "      <td>94.0</td>\n",
       "      <td>10.0</td>\n",
       "      <td>9.0</td>\n",
       "      <td>10.0</td>\n",
       "      <td>10.0</td>\n",
       "      <td>9.0</td>\n",
       "      <td>9.0</td>\n",
       "      <td>f</td>\n",
       "      <td>1.23</td>\n",
       "    </tr>\n",
       "    <tr>\n",
       "      <th>5</th>\n",
       "      <td>49523</td>\n",
       "      <td>Strict 30 night minimum! Small room w shared b...</td>\n",
       "      <td>THIRTY DAY MINIMUM!!!!! The small room is perf...</td>\n",
       "      <td>The property is near the top of a low ridge ne...</td>\n",
       "      <td>2010-09-06</td>\n",
       "      <td>I am an over employed PA in love with the coun...</td>\n",
       "      <td>within a few hours</td>\n",
       "      <td>14%</td>\n",
       "      <td>2</td>\n",
       "      <td>Unincorporated Areas</td>\n",
       "      <td>36.96319</td>\n",
       "      <td>-121.82195</td>\n",
       "      <td>Private room in house</td>\n",
       "      <td>2</td>\n",
       "      <td>NaN</td>\n",
       "      <td>1.0</td>\n",
       "      <td>[\"Washer\", \"Heating\", \"Hair dryer\", \"Dedicated...</td>\n",
       "      <td>$75.00</td>\n",
       "      <td>30</td>\n",
       "      <td>30</td>\n",
       "      <td>209</td>\n",
       "      <td>2011-02-21</td>\n",
       "      <td>2019-10-26</td>\n",
       "      <td>97.0</td>\n",
       "      <td>10.0</td>\n",
       "      <td>9.0</td>\n",
       "      <td>10.0</td>\n",
       "      <td>10.0</td>\n",
       "      <td>10.0</td>\n",
       "      <td>10.0</td>\n",
       "      <td>f</td>\n",
       "      <td>1.71</td>\n",
       "    </tr>\n",
       "  </tbody>\n",
       "</table>\n",
       "</div>"
      ],
      "text/plain": [
       "      id                                               name  \\\n",
       "4  49520                     Guest Cottage with shared bath   \n",
       "5  49523  Strict 30 night minimum! Small room w shared b...   \n",
       "\n",
       "                                         description  \\\n",
       "4  30 day minimum<br />Tiny garden cottage with a...   \n",
       "5  THIRTY DAY MINIMUM!!!!! The small room is perf...   \n",
       "\n",
       "                               neighborhood_overview  host_since  \\\n",
       "4                                         No Content  2010-09-06   \n",
       "5  The property is near the top of a low ridge ne...  2010-09-06   \n",
       "\n",
       "                                          host_about  host_response_time  \\\n",
       "4  I am an over employed PA in love with the coun...  within a few hours   \n",
       "5  I am an over employed PA in love with the coun...  within a few hours   \n",
       "\n",
       "  host_acceptance_rate  host_listings_count neighbourhood_cleansed  latitude  \\\n",
       "4                  14%                    2   Unincorporated Areas  36.96325   \n",
       "5                  14%                    2   Unincorporated Areas  36.96319   \n",
       "\n",
       "   longitude              property_type  accommodates bathrooms_text  \\\n",
       "4 -121.82091  Private room in apartment             2            NaN   \n",
       "5 -121.82195      Private room in house             2            NaN   \n",
       "\n",
       "   bedrooms                                          amenities   price  \\\n",
       "4       1.0  [\"Washer\", \"Heating\", \"Microwave\", \"Dishes and...  $95.00   \n",
       "5       1.0  [\"Washer\", \"Heating\", \"Hair dryer\", \"Dedicated...  $75.00   \n",
       "\n",
       "   minimum_nights  maximum_nights  number_of_reviews first_review last_review  \\\n",
       "4              30              30                145   2011-06-28  2018-09-15   \n",
       "5              30              30                209   2011-02-21  2019-10-26   \n",
       "\n",
       "   review_scores_rating  review_scores_accuracy  review_scores_cleanliness  \\\n",
       "4                  94.0                    10.0                        9.0   \n",
       "5                  97.0                    10.0                        9.0   \n",
       "\n",
       "   review_scores_checkin  review_scores_communication  review_scores_location  \\\n",
       "4                   10.0                         10.0                     9.0   \n",
       "5                   10.0                         10.0                    10.0   \n",
       "\n",
       "   review_scores_value instant_bookable  reviews_per_month  \n",
       "4                  9.0                f               1.23  \n",
       "5                 10.0                f               1.71  "
      ]
     },
     "execution_count": 29,
     "metadata": {},
     "output_type": "execute_result"
    }
   ],
   "source": [
    "listing[listing['bathrooms_text'].isnull()]"
   ]
  },
  {
   "cell_type": "code",
   "execution_count": 30,
   "metadata": {},
   "outputs": [],
   "source": [
    "listing['bathrooms_text'].fillna('1 bath', inplace = True)"
   ]
  },
  {
   "cell_type": "markdown",
   "metadata": {},
   "source": [
    "Filling the null values for 'host_acceptance_rate' with the mean value. First, converting the values from percentages into floats."
   ]
  },
  {
   "cell_type": "code",
   "execution_count": 31,
   "metadata": {},
   "outputs": [],
   "source": [
    "listing['host_acceptance_rate'] = listing['host_acceptance_rate'].str.replace('%', '').astype('float')/100.0"
   ]
  },
  {
   "cell_type": "code",
   "execution_count": 32,
   "metadata": {},
   "outputs": [],
   "source": [
    "avg_acceptance_rate = listing['host_acceptance_rate'].value_counts().mean()"
   ]
  },
  {
   "cell_type": "code",
   "execution_count": 33,
   "metadata": {},
   "outputs": [],
   "source": [
    "listing['host_acceptance_rate'].fillna(avg_acceptance_rate, inplace = True)"
   ]
  },
  {
   "cell_type": "markdown",
   "metadata": {},
   "source": [
    "Filling the null values for 'bedrooms' with '1.0' since that is the most frequent value."
   ]
  },
  {
   "cell_type": "code",
   "execution_count": 34,
   "metadata": {},
   "outputs": [
    {
     "data": {
      "text/plain": [
       "1.0     429\n",
       "2.0     257\n",
       "3.0     212\n",
       "4.0      92\n",
       "5.0      16\n",
       "6.0       4\n",
       "7.0       2\n",
       "9.0       1\n",
       "10.0      1\n",
       "Name: bedrooms, dtype: int64"
      ]
     },
     "execution_count": 34,
     "metadata": {},
     "output_type": "execute_result"
    }
   ],
   "source": [
    "listing['bedrooms'].value_counts()"
   ]
  },
  {
   "cell_type": "code",
   "execution_count": 35,
   "metadata": {},
   "outputs": [],
   "source": [
    "listing['bedrooms'].fillna('1.0', inplace = True)"
   ]
  },
  {
   "cell_type": "markdown",
   "metadata": {},
   "source": [
    "## Save clean dataframes"
   ]
  },
  {
   "cell_type": "markdown",
   "metadata": {},
   "source": [
    "Verify all nulls are dealt with."
   ]
  },
  {
   "cell_type": "code",
   "execution_count": 36,
   "metadata": {},
   "outputs": [
    {
     "data": {
      "text/plain": [
       "0"
      ]
     },
     "execution_count": 36,
     "metadata": {},
     "output_type": "execute_result"
    }
   ],
   "source": [
    "listing.isnull().sum().sum()"
   ]
  },
  {
   "cell_type": "code",
   "execution_count": 37,
   "metadata": {},
   "outputs": [
    {
     "data": {
      "text/plain": [
       "0"
      ]
     },
     "execution_count": 37,
     "metadata": {},
     "output_type": "execute_result"
    }
   ],
   "source": [
    "review.isnull().sum().sum()"
   ]
  },
  {
   "cell_type": "markdown",
   "metadata": {},
   "source": [
    "Checking the final amount of columns and rows for the final dataframe."
   ]
  },
  {
   "cell_type": "code",
   "execution_count": 38,
   "metadata": {},
   "outputs": [
    {
     "name": "stdout",
     "output_type": "stream",
     "text": [
      "Shape for Santa Cruz Listings CSV: (1109, 32)\n",
      "Shape for Santa Cruz Reviews CSV: (31372, 3)\n"
     ]
    }
   ],
   "source": [
    "print(f'Shape for Santa Cruz Listings CSV: {listing.shape}')\n",
    "print(f'Shape for Santa Cruz Reviews CSV: {review.shape}')"
   ]
  },
  {
   "cell_type": "markdown",
   "metadata": {},
   "source": [
    "Saving finalized dataframes as new CSV files."
   ]
  },
  {
   "cell_type": "code",
   "execution_count": 39,
   "metadata": {},
   "outputs": [],
   "source": [
    "listing.to_csv('./data/Santa_Cruz_Listings_Clean', index = False)\n",
    "review.to_csv('./data/Santa_Cruz_Reviews_Clean', index = False)"
   ]
  }
 ],
 "metadata": {
  "kernelspec": {
   "display_name": "Python 3",
   "language": "python",
   "name": "python3"
  },
  "language_info": {
   "codemirror_mode": {
    "name": "ipython",
    "version": 3
   },
   "file_extension": ".py",
   "mimetype": "text/x-python",
   "name": "python",
   "nbconvert_exporter": "python",
   "pygments_lexer": "ipython3",
   "version": "3.8.5"
  }
 },
 "nbformat": 4,
 "nbformat_minor": 4
}
