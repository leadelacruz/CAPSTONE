{
 "cells": [
  {
   "cell_type": "markdown",
   "metadata": {},
   "source": [
    "# Chicago: Data Cleaning "
   ]
  },
  {
   "cell_type": "code",
   "execution_count": 1,
   "metadata": {},
   "outputs": [],
   "source": [
    "# ! pip install langdetect"
   ]
  },
  {
   "cell_type": "code",
   "execution_count": 2,
   "metadata": {},
   "outputs": [],
   "source": [
    "import pandas as pd\n",
    "import ast\n",
    "from langdetect import detect\n",
    "\n",
    "pd.set_option(\"display.max_columns\", 100)\n",
    "pd.set_option(\"display.max_rows\", 100)"
   ]
  },
  {
   "cell_type": "code",
   "execution_count": 3,
   "metadata": {},
   "outputs": [],
   "source": [
    "listing = pd.read_csv('./data/Chicago_listings.csv')\n",
    "review = pd.read_csv('./data/Chicago_reviews.csv')"
   ]
  },
  {
   "cell_type": "code",
   "execution_count": 4,
   "metadata": {},
   "outputs": [
    {
     "name": "stdout",
     "output_type": "stream",
     "text": [
      "Shape for Chicago Listings CSV: (6372, 74)\n",
      "Shape for Chicago Reviews CSV: (267809, 6)\n"
     ]
    }
   ],
   "source": [
    "print(f'Shape for Chicago Listings CSV: {listing.shape}')\n",
    "print(f'Shape for Chicago Reviews CSV: {review.shape}')"
   ]
  },
  {
   "cell_type": "markdown",
   "metadata": {},
   "source": [
    "## Claning Review csv file"
   ]
  },
  {
   "cell_type": "code",
   "execution_count": 5,
   "metadata": {
    "scrolled": true
   },
   "outputs": [
    {
     "data": {
      "text/html": [
       "<div>\n",
       "<style scoped>\n",
       "    .dataframe tbody tr th:only-of-type {\n",
       "        vertical-align: middle;\n",
       "    }\n",
       "\n",
       "    .dataframe tbody tr th {\n",
       "        vertical-align: top;\n",
       "    }\n",
       "\n",
       "    .dataframe thead th {\n",
       "        text-align: right;\n",
       "    }\n",
       "</style>\n",
       "<table border=\"1\" class=\"dataframe\">\n",
       "  <thead>\n",
       "    <tr style=\"text-align: right;\">\n",
       "      <th></th>\n",
       "      <th>listing_id</th>\n",
       "      <th>id</th>\n",
       "      <th>date</th>\n",
       "      <th>reviewer_id</th>\n",
       "      <th>reviewer_name</th>\n",
       "      <th>comments</th>\n",
       "    </tr>\n",
       "  </thead>\n",
       "  <tbody>\n",
       "    <tr>\n",
       "      <th>0</th>\n",
       "      <td>2384</td>\n",
       "      <td>25218143</td>\n",
       "      <td>2015-01-09</td>\n",
       "      <td>14385014</td>\n",
       "      <td>Ivan</td>\n",
       "      <td>it's a wonderful trip experience. I didn't exc...</td>\n",
       "    </tr>\n",
       "    <tr>\n",
       "      <th>1</th>\n",
       "      <td>2384</td>\n",
       "      <td>28475392</td>\n",
       "      <td>2015-03-24</td>\n",
       "      <td>16241178</td>\n",
       "      <td>Namhaitou</td>\n",
       "      <td>This is my first trip using Airbnb. I was a li...</td>\n",
       "    </tr>\n",
       "    <tr>\n",
       "      <th>2</th>\n",
       "      <td>2384</td>\n",
       "      <td>30273263</td>\n",
       "      <td>2015-04-19</td>\n",
       "      <td>26101401</td>\n",
       "      <td>Patrick</td>\n",
       "      <td>The reservation was canceled 80 days before ar...</td>\n",
       "    </tr>\n",
       "    <tr>\n",
       "      <th>3</th>\n",
       "      <td>2384</td>\n",
       "      <td>30974202</td>\n",
       "      <td>2015-04-30</td>\n",
       "      <td>26247321</td>\n",
       "      <td>Cristina</td>\n",
       "      <td>Sólo puedo decir cosas buenas de Rebecca. La h...</td>\n",
       "    </tr>\n",
       "    <tr>\n",
       "      <th>4</th>\n",
       "      <td>2384</td>\n",
       "      <td>31363208</td>\n",
       "      <td>2015-05-04</td>\n",
       "      <td>31293837</td>\n",
       "      <td>SuJung</td>\n",
       "      <td>Rebecca was an absolutely wonderful host.\\r\\n\\...</td>\n",
       "    </tr>\n",
       "  </tbody>\n",
       "</table>\n",
       "</div>"
      ],
      "text/plain": [
       "   listing_id        id        date  reviewer_id reviewer_name  \\\n",
       "0        2384  25218143  2015-01-09     14385014          Ivan   \n",
       "1        2384  28475392  2015-03-24     16241178     Namhaitou   \n",
       "2        2384  30273263  2015-04-19     26101401       Patrick   \n",
       "3        2384  30974202  2015-04-30     26247321      Cristina   \n",
       "4        2384  31363208  2015-05-04     31293837        SuJung   \n",
       "\n",
       "                                            comments  \n",
       "0  it's a wonderful trip experience. I didn't exc...  \n",
       "1  This is my first trip using Airbnb. I was a li...  \n",
       "2  The reservation was canceled 80 days before ar...  \n",
       "3  Sólo puedo decir cosas buenas de Rebecca. La h...  \n",
       "4  Rebecca was an absolutely wonderful host.\\r\\n\\...  "
      ]
     },
     "execution_count": 5,
     "metadata": {},
     "output_type": "execute_result"
    }
   ],
   "source": [
    "review.head()"
   ]
  },
  {
   "cell_type": "markdown",
   "metadata": {},
   "source": [
    "Dropping unnecessary columns"
   ]
  },
  {
   "cell_type": "code",
   "execution_count": 6,
   "metadata": {},
   "outputs": [],
   "source": [
    "review.drop(columns = ['id',\n",
    "                       'reviewer_id',\n",
    "                       'reviewer_name'],\n",
    "            inplace = True)"
   ]
  },
  {
   "cell_type": "markdown",
   "metadata": {},
   "source": [
    "Removing all reviews that are not from 2019"
   ]
  },
  {
   "cell_type": "code",
   "execution_count": 7,
   "metadata": {},
   "outputs": [],
   "source": [
    "review = review[(review['date'] >= '2019-01-01') & (review['date'] <= '2019-12-31')]"
   ]
  },
  {
   "cell_type": "code",
   "execution_count": 8,
   "metadata": {
    "scrolled": true
   },
   "outputs": [
    {
     "data": {
      "text/plain": [
       "(86016, 3)"
      ]
     },
     "execution_count": 8,
     "metadata": {},
     "output_type": "execute_result"
    }
   ],
   "source": [
    "review.shape"
   ]
  },
  {
   "cell_type": "markdown",
   "metadata": {},
   "source": [
    "Dropping all rows with null values"
   ]
  },
  {
   "cell_type": "code",
   "execution_count": 9,
   "metadata": {},
   "outputs": [
    {
     "data": {
      "text/plain": [
       "listing_id     0\n",
       "date           0\n",
       "comments      67\n",
       "dtype: int64"
      ]
     },
     "execution_count": 9,
     "metadata": {},
     "output_type": "execute_result"
    }
   ],
   "source": [
    "review.isnull().sum()"
   ]
  },
  {
   "cell_type": "code",
   "execution_count": 10,
   "metadata": {},
   "outputs": [],
   "source": [
    "review = review.dropna()"
   ]
  },
  {
   "cell_type": "markdown",
   "metadata": {},
   "source": [
    "After doing some EDA these are some of the things I noticed needed to be addressed."
   ]
  },
  {
   "cell_type": "markdown",
   "metadata": {},
   "source": [
    "Remove all reviews that are less than 5 words."
   ]
  },
  {
   "cell_type": "code",
   "execution_count": 11,
   "metadata": {},
   "outputs": [],
   "source": [
    "review = review[review['comments'].str.count(' ') > 4]"
   ]
  },
  {
   "cell_type": "markdown",
   "metadata": {},
   "source": [
    "Remove all reviews that are not in English"
   ]
  },
  {
   "cell_type": "code",
   "execution_count": 12,
   "metadata": {},
   "outputs": [],
   "source": [
    "review.drop([i for i in review[review['comments'].apply(detect) != 'en'].index], inplace=True)"
   ]
  },
  {
   "cell_type": "markdown",
   "metadata": {},
   "source": [
    "Remove '\\n' since this is just an indicator for a line break."
   ]
  },
  {
   "cell_type": "code",
   "execution_count": 13,
   "metadata": {},
   "outputs": [],
   "source": [
    "review['comments'] = review['comments'].str.replace('\\n', '')"
   ]
  },
  {
   "cell_type": "markdown",
   "metadata": {},
   "source": [
    "Removing any numbers from the comments."
   ]
  },
  {
   "cell_type": "code",
   "execution_count": 14,
   "metadata": {},
   "outputs": [],
   "source": [
    "review['comments'] = review['comments'].replace('\\d+', '', regex=True)"
   ]
  },
  {
   "cell_type": "markdown",
   "metadata": {},
   "source": [
    "Removing reviews written in Asian languages."
   ]
  },
  {
   "cell_type": "code",
   "execution_count": 15,
   "metadata": {},
   "outputs": [],
   "source": [
    "review.drop([i for i in review[review['comments'].str.contains(r'[^\\x00-\\x7F]+') == True].index], inplace = True)"
   ]
  },
  {
   "cell_type": "markdown",
   "metadata": {},
   "source": [
    "Removing rows where the comments were generated by AirBnb due to the host cancelling a booked reservation."
   ]
  },
  {
   "cell_type": "code",
   "execution_count": 16,
   "metadata": {},
   "outputs": [],
   "source": [
    "review.drop([i for i in review[review['comments'].str.contains('This is an automated posting') == True].index], inplace = True)"
   ]
  },
  {
   "cell_type": "markdown",
   "metadata": {},
   "source": [
    "## Cleaning Listing csv file"
   ]
  },
  {
   "cell_type": "code",
   "execution_count": 17,
   "metadata": {
    "scrolled": false
   },
   "outputs": [
    {
     "data": {
      "text/html": [
       "<div>\n",
       "<style scoped>\n",
       "    .dataframe tbody tr th:only-of-type {\n",
       "        vertical-align: middle;\n",
       "    }\n",
       "\n",
       "    .dataframe tbody tr th {\n",
       "        vertical-align: top;\n",
       "    }\n",
       "\n",
       "    .dataframe thead th {\n",
       "        text-align: right;\n",
       "    }\n",
       "</style>\n",
       "<table border=\"1\" class=\"dataframe\">\n",
       "  <thead>\n",
       "    <tr style=\"text-align: right;\">\n",
       "      <th></th>\n",
       "      <th>id</th>\n",
       "      <th>listing_url</th>\n",
       "      <th>scrape_id</th>\n",
       "      <th>last_scraped</th>\n",
       "      <th>name</th>\n",
       "      <th>description</th>\n",
       "      <th>neighborhood_overview</th>\n",
       "      <th>picture_url</th>\n",
       "      <th>host_id</th>\n",
       "      <th>host_url</th>\n",
       "      <th>host_name</th>\n",
       "      <th>host_since</th>\n",
       "      <th>host_location</th>\n",
       "      <th>host_about</th>\n",
       "      <th>host_response_time</th>\n",
       "      <th>host_response_rate</th>\n",
       "      <th>host_acceptance_rate</th>\n",
       "      <th>host_is_superhost</th>\n",
       "      <th>host_thumbnail_url</th>\n",
       "      <th>host_picture_url</th>\n",
       "      <th>host_neighbourhood</th>\n",
       "      <th>host_listings_count</th>\n",
       "      <th>host_total_listings_count</th>\n",
       "      <th>host_verifications</th>\n",
       "      <th>host_has_profile_pic</th>\n",
       "      <th>host_identity_verified</th>\n",
       "      <th>neighbourhood</th>\n",
       "      <th>neighbourhood_cleansed</th>\n",
       "      <th>neighbourhood_group_cleansed</th>\n",
       "      <th>latitude</th>\n",
       "      <th>longitude</th>\n",
       "      <th>property_type</th>\n",
       "      <th>room_type</th>\n",
       "      <th>accommodates</th>\n",
       "      <th>bathrooms</th>\n",
       "      <th>bathrooms_text</th>\n",
       "      <th>bedrooms</th>\n",
       "      <th>beds</th>\n",
       "      <th>amenities</th>\n",
       "      <th>price</th>\n",
       "      <th>minimum_nights</th>\n",
       "      <th>maximum_nights</th>\n",
       "      <th>minimum_minimum_nights</th>\n",
       "      <th>maximum_minimum_nights</th>\n",
       "      <th>minimum_maximum_nights</th>\n",
       "      <th>maximum_maximum_nights</th>\n",
       "      <th>minimum_nights_avg_ntm</th>\n",
       "      <th>maximum_nights_avg_ntm</th>\n",
       "      <th>calendar_updated</th>\n",
       "      <th>has_availability</th>\n",
       "      <th>availability_30</th>\n",
       "      <th>availability_60</th>\n",
       "      <th>availability_90</th>\n",
       "      <th>availability_365</th>\n",
       "      <th>calendar_last_scraped</th>\n",
       "      <th>number_of_reviews</th>\n",
       "      <th>number_of_reviews_ltm</th>\n",
       "      <th>number_of_reviews_l30d</th>\n",
       "      <th>first_review</th>\n",
       "      <th>last_review</th>\n",
       "      <th>review_scores_rating</th>\n",
       "      <th>review_scores_accuracy</th>\n",
       "      <th>review_scores_cleanliness</th>\n",
       "      <th>review_scores_checkin</th>\n",
       "      <th>review_scores_communication</th>\n",
       "      <th>review_scores_location</th>\n",
       "      <th>review_scores_value</th>\n",
       "      <th>license</th>\n",
       "      <th>instant_bookable</th>\n",
       "      <th>calculated_host_listings_count</th>\n",
       "      <th>calculated_host_listings_count_entire_homes</th>\n",
       "      <th>calculated_host_listings_count_private_rooms</th>\n",
       "      <th>calculated_host_listings_count_shared_rooms</th>\n",
       "      <th>reviews_per_month</th>\n",
       "    </tr>\n",
       "  </thead>\n",
       "  <tbody>\n",
       "    <tr>\n",
       "      <th>0</th>\n",
       "      <td>2384</td>\n",
       "      <td>https://www.airbnb.com/rooms/2384</td>\n",
       "      <td>20210217171619</td>\n",
       "      <td>2021-02-19</td>\n",
       "      <td>Hyde Park - Walk to UChicago, 10 min to McCormick</td>\n",
       "      <td>Visiting The University of Chicago or attendin...</td>\n",
       "      <td>The apartment is less than one block from beau...</td>\n",
       "      <td>https://a0.muscache.com/pictures/acf6b3c0-47f2...</td>\n",
       "      <td>2613</td>\n",
       "      <td>https://www.airbnb.com/users/show/2613</td>\n",
       "      <td>Rebecca</td>\n",
       "      <td>2008-08-29</td>\n",
       "      <td>Chicago, Illinois, United States</td>\n",
       "      <td>My 2 bdrm apartment is a 2nd floor walk-up in ...</td>\n",
       "      <td>within an hour</td>\n",
       "      <td>100%</td>\n",
       "      <td>100%</td>\n",
       "      <td>t</td>\n",
       "      <td>https://a0.muscache.com/im/pictures/user/8bb47...</td>\n",
       "      <td>https://a0.muscache.com/im/pictures/user/8bb47...</td>\n",
       "      <td>Hyde Park</td>\n",
       "      <td>1.0</td>\n",
       "      <td>1.0</td>\n",
       "      <td>['email', 'phone', 'reviews', 'manual_offline'...</td>\n",
       "      <td>t</td>\n",
       "      <td>t</td>\n",
       "      <td>Chicago, Illinois, United States</td>\n",
       "      <td>Hyde Park</td>\n",
       "      <td>NaN</td>\n",
       "      <td>41.78790</td>\n",
       "      <td>-87.58780</td>\n",
       "      <td>Private room in condominium</td>\n",
       "      <td>Private room</td>\n",
       "      <td>1</td>\n",
       "      <td>NaN</td>\n",
       "      <td>1 shared bath</td>\n",
       "      <td>1.0</td>\n",
       "      <td>1.0</td>\n",
       "      <td>[\"Free street parking\", \"Washer\", \"Fire exting...</td>\n",
       "      <td>$65.00</td>\n",
       "      <td>2</td>\n",
       "      <td>90</td>\n",
       "      <td>2</td>\n",
       "      <td>2</td>\n",
       "      <td>90</td>\n",
       "      <td>90</td>\n",
       "      <td>2.0</td>\n",
       "      <td>90.0</td>\n",
       "      <td>NaN</td>\n",
       "      <td>t</td>\n",
       "      <td>20</td>\n",
       "      <td>50</td>\n",
       "      <td>80</td>\n",
       "      <td>355</td>\n",
       "      <td>2021-02-19</td>\n",
       "      <td>181</td>\n",
       "      <td>3</td>\n",
       "      <td>0</td>\n",
       "      <td>2015-01-09</td>\n",
       "      <td>2020-10-29</td>\n",
       "      <td>100.0</td>\n",
       "      <td>10.0</td>\n",
       "      <td>10.0</td>\n",
       "      <td>10.0</td>\n",
       "      <td>10.0</td>\n",
       "      <td>10.0</td>\n",
       "      <td>10.0</td>\n",
       "      <td>R17000015609</td>\n",
       "      <td>f</td>\n",
       "      <td>1</td>\n",
       "      <td>0</td>\n",
       "      <td>1</td>\n",
       "      <td>0</td>\n",
       "      <td>2.43</td>\n",
       "    </tr>\n",
       "    <tr>\n",
       "      <th>1</th>\n",
       "      <td>4505</td>\n",
       "      <td>https://www.airbnb.com/rooms/4505</td>\n",
       "      <td>20210217171619</td>\n",
       "      <td>2021-02-19</td>\n",
       "      <td>394 Great Reviews. 127 y/o House. 40 yds to tr...</td>\n",
       "      <td>We have been closed for quite a while and will...</td>\n",
       "      <td>NaN</td>\n",
       "      <td>https://a0.muscache.com/pictures/10628083/3543...</td>\n",
       "      <td>5775</td>\n",
       "      <td>https://www.airbnb.com/users/show/5775</td>\n",
       "      <td>Craig &amp; Kathleen</td>\n",
       "      <td>2008-12-29</td>\n",
       "      <td>Chicago, Illinois, United States</td>\n",
       "      <td>Incredibly creative(Kathleen) and stunningly a...</td>\n",
       "      <td>within an hour</td>\n",
       "      <td>100%</td>\n",
       "      <td>88%</td>\n",
       "      <td>t</td>\n",
       "      <td>https://a0.muscache.com/im/users/5775/profile_...</td>\n",
       "      <td>https://a0.muscache.com/im/users/5775/profile_...</td>\n",
       "      <td>Little Village</td>\n",
       "      <td>1.0</td>\n",
       "      <td>1.0</td>\n",
       "      <td>['email', 'phone', 'reviews', 'kba']</td>\n",
       "      <td>t</td>\n",
       "      <td>t</td>\n",
       "      <td>NaN</td>\n",
       "      <td>South Lawndale</td>\n",
       "      <td>NaN</td>\n",
       "      <td>41.85495</td>\n",
       "      <td>-87.69696</td>\n",
       "      <td>Entire apartment</td>\n",
       "      <td>Entire home/apt</td>\n",
       "      <td>7</td>\n",
       "      <td>NaN</td>\n",
       "      <td>1 bath</td>\n",
       "      <td>3.0</td>\n",
       "      <td>5.0</td>\n",
       "      <td>[\"Free street parking\", \"Garden or backyard\", ...</td>\n",
       "      <td>$117.00</td>\n",
       "      <td>2</td>\n",
       "      <td>60</td>\n",
       "      <td>2</td>\n",
       "      <td>2</td>\n",
       "      <td>60</td>\n",
       "      <td>60</td>\n",
       "      <td>2.0</td>\n",
       "      <td>60.0</td>\n",
       "      <td>NaN</td>\n",
       "      <td>t</td>\n",
       "      <td>0</td>\n",
       "      <td>0</td>\n",
       "      <td>21</td>\n",
       "      <td>184</td>\n",
       "      <td>2021-02-19</td>\n",
       "      <td>395</td>\n",
       "      <td>1</td>\n",
       "      <td>0</td>\n",
       "      <td>2009-03-06</td>\n",
       "      <td>2020-07-14</td>\n",
       "      <td>96.0</td>\n",
       "      <td>10.0</td>\n",
       "      <td>9.0</td>\n",
       "      <td>10.0</td>\n",
       "      <td>10.0</td>\n",
       "      <td>10.0</td>\n",
       "      <td>9.0</td>\n",
       "      <td>R19000037538</td>\n",
       "      <td>t</td>\n",
       "      <td>1</td>\n",
       "      <td>1</td>\n",
       "      <td>0</td>\n",
       "      <td>0</td>\n",
       "      <td>2.71</td>\n",
       "    </tr>\n",
       "    <tr>\n",
       "      <th>2</th>\n",
       "      <td>7126</td>\n",
       "      <td>https://www.airbnb.com/rooms/7126</td>\n",
       "      <td>20210217171619</td>\n",
       "      <td>2021-02-19</td>\n",
       "      <td>Tiny Studio Apartment 94 Walk Score</td>\n",
       "      <td>A very small studio in a wonderful neighborhoo...</td>\n",
       "      <td>Ukrainian Village was just named \"Hottest Neig...</td>\n",
       "      <td>https://a0.muscache.com/pictures/51073/16c81c7...</td>\n",
       "      <td>17928</td>\n",
       "      <td>https://www.airbnb.com/users/show/17928</td>\n",
       "      <td>Sarah</td>\n",
       "      <td>2009-05-19</td>\n",
       "      <td>Chicago, Illinois, United States</td>\n",
       "      <td>We live in Chicago. We love to travel and see ...</td>\n",
       "      <td>within a few hours</td>\n",
       "      <td>90%</td>\n",
       "      <td>93%</td>\n",
       "      <td>t</td>\n",
       "      <td>https://a0.muscache.com/im/users/17928/profile...</td>\n",
       "      <td>https://a0.muscache.com/im/users/17928/profile...</td>\n",
       "      <td>Ukrainian Village</td>\n",
       "      <td>2.0</td>\n",
       "      <td>2.0</td>\n",
       "      <td>['email', 'phone', 'reviews', 'jumio', 'offlin...</td>\n",
       "      <td>t</td>\n",
       "      <td>t</td>\n",
       "      <td>Chicago, Illinois, United States</td>\n",
       "      <td>West Town</td>\n",
       "      <td>NaN</td>\n",
       "      <td>41.90289</td>\n",
       "      <td>-87.68182</td>\n",
       "      <td>Entire apartment</td>\n",
       "      <td>Entire home/apt</td>\n",
       "      <td>2</td>\n",
       "      <td>NaN</td>\n",
       "      <td>1 bath</td>\n",
       "      <td>3.0</td>\n",
       "      <td>4.0</td>\n",
       "      <td>[\"Free street parking\", \"Smoke alarm\", \"Fire e...</td>\n",
       "      <td>$70.00</td>\n",
       "      <td>2</td>\n",
       "      <td>60</td>\n",
       "      <td>2</td>\n",
       "      <td>2</td>\n",
       "      <td>1125</td>\n",
       "      <td>1125</td>\n",
       "      <td>2.0</td>\n",
       "      <td>1125.0</td>\n",
       "      <td>NaN</td>\n",
       "      <td>t</td>\n",
       "      <td>30</td>\n",
       "      <td>60</td>\n",
       "      <td>90</td>\n",
       "      <td>365</td>\n",
       "      <td>2021-02-19</td>\n",
       "      <td>389</td>\n",
       "      <td>9</td>\n",
       "      <td>0</td>\n",
       "      <td>2009-07-03</td>\n",
       "      <td>2021-01-09</td>\n",
       "      <td>93.0</td>\n",
       "      <td>10.0</td>\n",
       "      <td>9.0</td>\n",
       "      <td>10.0</td>\n",
       "      <td>10.0</td>\n",
       "      <td>10.0</td>\n",
       "      <td>10.0</td>\n",
       "      <td>R18000034991</td>\n",
       "      <td>f</td>\n",
       "      <td>1</td>\n",
       "      <td>1</td>\n",
       "      <td>0</td>\n",
       "      <td>0</td>\n",
       "      <td>2.75</td>\n",
       "    </tr>\n",
       "    <tr>\n",
       "      <th>3</th>\n",
       "      <td>9811</td>\n",
       "      <td>https://www.airbnb.com/rooms/9811</td>\n",
       "      <td>20210217171619</td>\n",
       "      <td>2021-02-19</td>\n",
       "      <td>Barbara's Hideaway - Old Town</td>\n",
       "      <td>One-bedroom hideaway tucked into Old Town step...</td>\n",
       "      <td>Chicago’s Old Town neighborhood is squeezed be...</td>\n",
       "      <td>https://a0.muscache.com/pictures/37df1935-855c...</td>\n",
       "      <td>33004</td>\n",
       "      <td>https://www.airbnb.com/users/show/33004</td>\n",
       "      <td>At Home Inn</td>\n",
       "      <td>2009-08-21</td>\n",
       "      <td>Chicago, Illinois, United States</td>\n",
       "      <td>Hi, we're Bob and Liz Biddle, long time Chicag...</td>\n",
       "      <td>within an hour</td>\n",
       "      <td>97%</td>\n",
       "      <td>96%</td>\n",
       "      <td>t</td>\n",
       "      <td>https://a0.muscache.com/im/pictures/user/e23d4...</td>\n",
       "      <td>https://a0.muscache.com/im/pictures/user/e23d4...</td>\n",
       "      <td>Old Town</td>\n",
       "      <td>10.0</td>\n",
       "      <td>10.0</td>\n",
       "      <td>['email', 'phone', 'reviews', 'jumio', 'govern...</td>\n",
       "      <td>t</td>\n",
       "      <td>t</td>\n",
       "      <td>Chicago, Illinois, United States</td>\n",
       "      <td>Lincoln Park</td>\n",
       "      <td>NaN</td>\n",
       "      <td>41.91769</td>\n",
       "      <td>-87.63788</td>\n",
       "      <td>Entire apartment</td>\n",
       "      <td>Entire home/apt</td>\n",
       "      <td>4</td>\n",
       "      <td>NaN</td>\n",
       "      <td>1 bath</td>\n",
       "      <td>1.0</td>\n",
       "      <td>2.0</td>\n",
       "      <td>[\"Free street parking\", \"Washer\", \"Fire exting...</td>\n",
       "      <td>$95.00</td>\n",
       "      <td>4</td>\n",
       "      <td>180</td>\n",
       "      <td>4</td>\n",
       "      <td>4</td>\n",
       "      <td>180</td>\n",
       "      <td>180</td>\n",
       "      <td>4.0</td>\n",
       "      <td>180.0</td>\n",
       "      <td>NaN</td>\n",
       "      <td>t</td>\n",
       "      <td>0</td>\n",
       "      <td>0</td>\n",
       "      <td>20</td>\n",
       "      <td>282</td>\n",
       "      <td>2021-02-19</td>\n",
       "      <td>54</td>\n",
       "      <td>5</td>\n",
       "      <td>0</td>\n",
       "      <td>2014-04-15</td>\n",
       "      <td>2021-01-15</td>\n",
       "      <td>93.0</td>\n",
       "      <td>10.0</td>\n",
       "      <td>9.0</td>\n",
       "      <td>10.0</td>\n",
       "      <td>9.0</td>\n",
       "      <td>10.0</td>\n",
       "      <td>10.0</td>\n",
       "      <td>2079260</td>\n",
       "      <td>f</td>\n",
       "      <td>11</td>\n",
       "      <td>11</td>\n",
       "      <td>0</td>\n",
       "      <td>0</td>\n",
       "      <td>0.65</td>\n",
       "    </tr>\n",
       "    <tr>\n",
       "      <th>4</th>\n",
       "      <td>10945</td>\n",
       "      <td>https://www.airbnb.com/rooms/10945</td>\n",
       "      <td>20210217171619</td>\n",
       "      <td>2021-02-19</td>\n",
       "      <td>The Biddle House (#1)</td>\n",
       "      <td>Beautiful first floor apartment in Historic Ol...</td>\n",
       "      <td>NaN</td>\n",
       "      <td>https://a0.muscache.com/pictures/58d1a420-a24b...</td>\n",
       "      <td>33004</td>\n",
       "      <td>https://www.airbnb.com/users/show/33004</td>\n",
       "      <td>At Home Inn</td>\n",
       "      <td>2009-08-21</td>\n",
       "      <td>Chicago, Illinois, United States</td>\n",
       "      <td>Hi, we're Bob and Liz Biddle, long time Chicag...</td>\n",
       "      <td>within an hour</td>\n",
       "      <td>97%</td>\n",
       "      <td>96%</td>\n",
       "      <td>t</td>\n",
       "      <td>https://a0.muscache.com/im/pictures/user/e23d4...</td>\n",
       "      <td>https://a0.muscache.com/im/pictures/user/e23d4...</td>\n",
       "      <td>Old Town</td>\n",
       "      <td>10.0</td>\n",
       "      <td>10.0</td>\n",
       "      <td>['email', 'phone', 'reviews', 'jumio', 'govern...</td>\n",
       "      <td>t</td>\n",
       "      <td>t</td>\n",
       "      <td>NaN</td>\n",
       "      <td>Lincoln Park</td>\n",
       "      <td>NaN</td>\n",
       "      <td>41.91183</td>\n",
       "      <td>-87.64000</td>\n",
       "      <td>Entire apartment</td>\n",
       "      <td>Entire home/apt</td>\n",
       "      <td>4</td>\n",
       "      <td>NaN</td>\n",
       "      <td>1 bath</td>\n",
       "      <td>2.0</td>\n",
       "      <td>2.0</td>\n",
       "      <td>[\"Free street parking\", \"Washer\", \"Fire exting...</td>\n",
       "      <td>$125.00</td>\n",
       "      <td>4</td>\n",
       "      <td>180</td>\n",
       "      <td>4</td>\n",
       "      <td>4</td>\n",
       "      <td>180</td>\n",
       "      <td>180</td>\n",
       "      <td>4.0</td>\n",
       "      <td>180.0</td>\n",
       "      <td>NaN</td>\n",
       "      <td>t</td>\n",
       "      <td>1</td>\n",
       "      <td>2</td>\n",
       "      <td>29</td>\n",
       "      <td>101</td>\n",
       "      <td>2021-02-19</td>\n",
       "      <td>21</td>\n",
       "      <td>5</td>\n",
       "      <td>0</td>\n",
       "      <td>2014-04-28</td>\n",
       "      <td>2020-11-21</td>\n",
       "      <td>90.0</td>\n",
       "      <td>9.0</td>\n",
       "      <td>9.0</td>\n",
       "      <td>9.0</td>\n",
       "      <td>9.0</td>\n",
       "      <td>10.0</td>\n",
       "      <td>9.0</td>\n",
       "      <td>2120297</td>\n",
       "      <td>t</td>\n",
       "      <td>11</td>\n",
       "      <td>11</td>\n",
       "      <td>0</td>\n",
       "      <td>0</td>\n",
       "      <td>0.25</td>\n",
       "    </tr>\n",
       "  </tbody>\n",
       "</table>\n",
       "</div>"
      ],
      "text/plain": [
       "      id                         listing_url       scrape_id last_scraped  \\\n",
       "0   2384   https://www.airbnb.com/rooms/2384  20210217171619   2021-02-19   \n",
       "1   4505   https://www.airbnb.com/rooms/4505  20210217171619   2021-02-19   \n",
       "2   7126   https://www.airbnb.com/rooms/7126  20210217171619   2021-02-19   \n",
       "3   9811   https://www.airbnb.com/rooms/9811  20210217171619   2021-02-19   \n",
       "4  10945  https://www.airbnb.com/rooms/10945  20210217171619   2021-02-19   \n",
       "\n",
       "                                                name  \\\n",
       "0  Hyde Park - Walk to UChicago, 10 min to McCormick   \n",
       "1  394 Great Reviews. 127 y/o House. 40 yds to tr...   \n",
       "2                Tiny Studio Apartment 94 Walk Score   \n",
       "3                      Barbara's Hideaway - Old Town   \n",
       "4                              The Biddle House (#1)   \n",
       "\n",
       "                                         description  \\\n",
       "0  Visiting The University of Chicago or attendin...   \n",
       "1  We have been closed for quite a while and will...   \n",
       "2  A very small studio in a wonderful neighborhoo...   \n",
       "3  One-bedroom hideaway tucked into Old Town step...   \n",
       "4  Beautiful first floor apartment in Historic Ol...   \n",
       "\n",
       "                               neighborhood_overview  \\\n",
       "0  The apartment is less than one block from beau...   \n",
       "1                                                NaN   \n",
       "2  Ukrainian Village was just named \"Hottest Neig...   \n",
       "3  Chicago’s Old Town neighborhood is squeezed be...   \n",
       "4                                                NaN   \n",
       "\n",
       "                                         picture_url  host_id  \\\n",
       "0  https://a0.muscache.com/pictures/acf6b3c0-47f2...     2613   \n",
       "1  https://a0.muscache.com/pictures/10628083/3543...     5775   \n",
       "2  https://a0.muscache.com/pictures/51073/16c81c7...    17928   \n",
       "3  https://a0.muscache.com/pictures/37df1935-855c...    33004   \n",
       "4  https://a0.muscache.com/pictures/58d1a420-a24b...    33004   \n",
       "\n",
       "                                  host_url         host_name  host_since  \\\n",
       "0   https://www.airbnb.com/users/show/2613           Rebecca  2008-08-29   \n",
       "1   https://www.airbnb.com/users/show/5775  Craig & Kathleen  2008-12-29   \n",
       "2  https://www.airbnb.com/users/show/17928             Sarah  2009-05-19   \n",
       "3  https://www.airbnb.com/users/show/33004       At Home Inn  2009-08-21   \n",
       "4  https://www.airbnb.com/users/show/33004       At Home Inn  2009-08-21   \n",
       "\n",
       "                      host_location  \\\n",
       "0  Chicago, Illinois, United States   \n",
       "1  Chicago, Illinois, United States   \n",
       "2  Chicago, Illinois, United States   \n",
       "3  Chicago, Illinois, United States   \n",
       "4  Chicago, Illinois, United States   \n",
       "\n",
       "                                          host_about  host_response_time  \\\n",
       "0  My 2 bdrm apartment is a 2nd floor walk-up in ...      within an hour   \n",
       "1  Incredibly creative(Kathleen) and stunningly a...      within an hour   \n",
       "2  We live in Chicago. We love to travel and see ...  within a few hours   \n",
       "3  Hi, we're Bob and Liz Biddle, long time Chicag...      within an hour   \n",
       "4  Hi, we're Bob and Liz Biddle, long time Chicag...      within an hour   \n",
       "\n",
       "  host_response_rate host_acceptance_rate host_is_superhost  \\\n",
       "0               100%                 100%                 t   \n",
       "1               100%                  88%                 t   \n",
       "2                90%                  93%                 t   \n",
       "3                97%                  96%                 t   \n",
       "4                97%                  96%                 t   \n",
       "\n",
       "                                  host_thumbnail_url  \\\n",
       "0  https://a0.muscache.com/im/pictures/user/8bb47...   \n",
       "1  https://a0.muscache.com/im/users/5775/profile_...   \n",
       "2  https://a0.muscache.com/im/users/17928/profile...   \n",
       "3  https://a0.muscache.com/im/pictures/user/e23d4...   \n",
       "4  https://a0.muscache.com/im/pictures/user/e23d4...   \n",
       "\n",
       "                                    host_picture_url host_neighbourhood  \\\n",
       "0  https://a0.muscache.com/im/pictures/user/8bb47...          Hyde Park   \n",
       "1  https://a0.muscache.com/im/users/5775/profile_...     Little Village   \n",
       "2  https://a0.muscache.com/im/users/17928/profile...  Ukrainian Village   \n",
       "3  https://a0.muscache.com/im/pictures/user/e23d4...           Old Town   \n",
       "4  https://a0.muscache.com/im/pictures/user/e23d4...           Old Town   \n",
       "\n",
       "   host_listings_count  host_total_listings_count  \\\n",
       "0                  1.0                        1.0   \n",
       "1                  1.0                        1.0   \n",
       "2                  2.0                        2.0   \n",
       "3                 10.0                       10.0   \n",
       "4                 10.0                       10.0   \n",
       "\n",
       "                                  host_verifications host_has_profile_pic  \\\n",
       "0  ['email', 'phone', 'reviews', 'manual_offline'...                    t   \n",
       "1               ['email', 'phone', 'reviews', 'kba']                    t   \n",
       "2  ['email', 'phone', 'reviews', 'jumio', 'offlin...                    t   \n",
       "3  ['email', 'phone', 'reviews', 'jumio', 'govern...                    t   \n",
       "4  ['email', 'phone', 'reviews', 'jumio', 'govern...                    t   \n",
       "\n",
       "  host_identity_verified                     neighbourhood  \\\n",
       "0                      t  Chicago, Illinois, United States   \n",
       "1                      t                               NaN   \n",
       "2                      t  Chicago, Illinois, United States   \n",
       "3                      t  Chicago, Illinois, United States   \n",
       "4                      t                               NaN   \n",
       "\n",
       "  neighbourhood_cleansed  neighbourhood_group_cleansed  latitude  longitude  \\\n",
       "0              Hyde Park                           NaN  41.78790  -87.58780   \n",
       "1         South Lawndale                           NaN  41.85495  -87.69696   \n",
       "2              West Town                           NaN  41.90289  -87.68182   \n",
       "3           Lincoln Park                           NaN  41.91769  -87.63788   \n",
       "4           Lincoln Park                           NaN  41.91183  -87.64000   \n",
       "\n",
       "                 property_type        room_type  accommodates  bathrooms  \\\n",
       "0  Private room in condominium     Private room             1        NaN   \n",
       "1             Entire apartment  Entire home/apt             7        NaN   \n",
       "2             Entire apartment  Entire home/apt             2        NaN   \n",
       "3             Entire apartment  Entire home/apt             4        NaN   \n",
       "4             Entire apartment  Entire home/apt             4        NaN   \n",
       "\n",
       "  bathrooms_text  bedrooms  beds  \\\n",
       "0  1 shared bath       1.0   1.0   \n",
       "1         1 bath       3.0   5.0   \n",
       "2         1 bath       3.0   4.0   \n",
       "3         1 bath       1.0   2.0   \n",
       "4         1 bath       2.0   2.0   \n",
       "\n",
       "                                           amenities    price  minimum_nights  \\\n",
       "0  [\"Free street parking\", \"Washer\", \"Fire exting...   $65.00               2   \n",
       "1  [\"Free street parking\", \"Garden or backyard\", ...  $117.00               2   \n",
       "2  [\"Free street parking\", \"Smoke alarm\", \"Fire e...   $70.00               2   \n",
       "3  [\"Free street parking\", \"Washer\", \"Fire exting...   $95.00               4   \n",
       "4  [\"Free street parking\", \"Washer\", \"Fire exting...  $125.00               4   \n",
       "\n",
       "   maximum_nights  minimum_minimum_nights  maximum_minimum_nights  \\\n",
       "0              90                       2                       2   \n",
       "1              60                       2                       2   \n",
       "2              60                       2                       2   \n",
       "3             180                       4                       4   \n",
       "4             180                       4                       4   \n",
       "\n",
       "   minimum_maximum_nights  maximum_maximum_nights  minimum_nights_avg_ntm  \\\n",
       "0                      90                      90                     2.0   \n",
       "1                      60                      60                     2.0   \n",
       "2                    1125                    1125                     2.0   \n",
       "3                     180                     180                     4.0   \n",
       "4                     180                     180                     4.0   \n",
       "\n",
       "   maximum_nights_avg_ntm  calendar_updated has_availability  availability_30  \\\n",
       "0                    90.0               NaN                t               20   \n",
       "1                    60.0               NaN                t                0   \n",
       "2                  1125.0               NaN                t               30   \n",
       "3                   180.0               NaN                t                0   \n",
       "4                   180.0               NaN                t                1   \n",
       "\n",
       "   availability_60  availability_90  availability_365 calendar_last_scraped  \\\n",
       "0               50               80               355            2021-02-19   \n",
       "1                0               21               184            2021-02-19   \n",
       "2               60               90               365            2021-02-19   \n",
       "3                0               20               282            2021-02-19   \n",
       "4                2               29               101            2021-02-19   \n",
       "\n",
       "   number_of_reviews  number_of_reviews_ltm  number_of_reviews_l30d  \\\n",
       "0                181                      3                       0   \n",
       "1                395                      1                       0   \n",
       "2                389                      9                       0   \n",
       "3                 54                      5                       0   \n",
       "4                 21                      5                       0   \n",
       "\n",
       "  first_review last_review  review_scores_rating  review_scores_accuracy  \\\n",
       "0   2015-01-09  2020-10-29                 100.0                    10.0   \n",
       "1   2009-03-06  2020-07-14                  96.0                    10.0   \n",
       "2   2009-07-03  2021-01-09                  93.0                    10.0   \n",
       "3   2014-04-15  2021-01-15                  93.0                    10.0   \n",
       "4   2014-04-28  2020-11-21                  90.0                     9.0   \n",
       "\n",
       "   review_scores_cleanliness  review_scores_checkin  \\\n",
       "0                       10.0                   10.0   \n",
       "1                        9.0                   10.0   \n",
       "2                        9.0                   10.0   \n",
       "3                        9.0                   10.0   \n",
       "4                        9.0                    9.0   \n",
       "\n",
       "   review_scores_communication  review_scores_location  review_scores_value  \\\n",
       "0                         10.0                    10.0                 10.0   \n",
       "1                         10.0                    10.0                  9.0   \n",
       "2                         10.0                    10.0                 10.0   \n",
       "3                          9.0                    10.0                 10.0   \n",
       "4                          9.0                    10.0                  9.0   \n",
       "\n",
       "        license instant_bookable  calculated_host_listings_count  \\\n",
       "0  R17000015609                f                               1   \n",
       "1  R19000037538                t                               1   \n",
       "2  R18000034991                f                               1   \n",
       "3       2079260                f                              11   \n",
       "4       2120297                t                              11   \n",
       "\n",
       "   calculated_host_listings_count_entire_homes  \\\n",
       "0                                            0   \n",
       "1                                            1   \n",
       "2                                            1   \n",
       "3                                           11   \n",
       "4                                           11   \n",
       "\n",
       "   calculated_host_listings_count_private_rooms  \\\n",
       "0                                             1   \n",
       "1                                             0   \n",
       "2                                             0   \n",
       "3                                             0   \n",
       "4                                             0   \n",
       "\n",
       "   calculated_host_listings_count_shared_rooms  reviews_per_month  \n",
       "0                                            0               2.43  \n",
       "1                                            0               2.71  \n",
       "2                                            0               2.75  \n",
       "3                                            0               0.65  \n",
       "4                                            0               0.25  "
      ]
     },
     "execution_count": 17,
     "metadata": {},
     "output_type": "execute_result"
    }
   ],
   "source": [
    "listing.head()"
   ]
  },
  {
   "cell_type": "code",
   "execution_count": 18,
   "metadata": {},
   "outputs": [
    {
     "data": {
      "text/plain": [
       "42227"
      ]
     },
     "execution_count": 18,
     "metadata": {},
     "output_type": "execute_result"
    }
   ],
   "source": [
    "listing.isnull().sum().sum()"
   ]
  },
  {
   "cell_type": "code",
   "execution_count": 19,
   "metadata": {
    "scrolled": true
   },
   "outputs": [
    {
     "data": {
      "text/plain": [
       "id                                                 0\n",
       "listing_url                                        0\n",
       "scrape_id                                          0\n",
       "last_scraped                                       0\n",
       "name                                               0\n",
       "description                                       18\n",
       "neighborhood_overview                           1669\n",
       "picture_url                                        0\n",
       "host_id                                            0\n",
       "host_url                                           0\n",
       "host_name                                          3\n",
       "host_since                                         3\n",
       "host_location                                     11\n",
       "host_about                                      2008\n",
       "host_response_time                              1572\n",
       "host_response_rate                              1572\n",
       "host_acceptance_rate                             943\n",
       "host_is_superhost                                  3\n",
       "host_thumbnail_url                                 3\n",
       "host_picture_url                                   3\n",
       "host_neighbourhood                               574\n",
       "host_listings_count                                3\n",
       "host_total_listings_count                          3\n",
       "host_verifications                                 0\n",
       "host_has_profile_pic                               3\n",
       "host_identity_verified                             3\n",
       "neighbourhood                                   1668\n",
       "neighbourhood_cleansed                             0\n",
       "neighbourhood_group_cleansed                    6372\n",
       "latitude                                           0\n",
       "longitude                                          0\n",
       "property_type                                      0\n",
       "room_type                                          0\n",
       "accommodates                                       0\n",
       "bathrooms                                       6372\n",
       "bathrooms_text                                     6\n",
       "bedrooms                                         491\n",
       "beds                                              45\n",
       "amenities                                          0\n",
       "price                                              0\n",
       "minimum_nights                                     0\n",
       "maximum_nights                                     0\n",
       "minimum_minimum_nights                             0\n",
       "maximum_minimum_nights                             0\n",
       "minimum_maximum_nights                             0\n",
       "maximum_maximum_nights                             0\n",
       "minimum_nights_avg_ntm                             0\n",
       "maximum_nights_avg_ntm                             0\n",
       "calendar_updated                                6372\n",
       "has_availability                                   0\n",
       "availability_30                                    0\n",
       "availability_60                                    0\n",
       "availability_90                                    0\n",
       "availability_365                                   0\n",
       "calendar_last_scraped                              0\n",
       "number_of_reviews                                  0\n",
       "number_of_reviews_ltm                              0\n",
       "number_of_reviews_l30d                             0\n",
       "first_review                                    1178\n",
       "last_review                                     1178\n",
       "review_scores_rating                            1225\n",
       "review_scores_accuracy                          1247\n",
       "review_scores_cleanliness                       1247\n",
       "review_scores_checkin                           1248\n",
       "review_scores_communication                     1249\n",
       "review_scores_location                          1248\n",
       "review_scores_value                             1248\n",
       "license                                          261\n",
       "instant_bookable                                   0\n",
       "calculated_host_listings_count                     0\n",
       "calculated_host_listings_count_entire_homes        0\n",
       "calculated_host_listings_count_private_rooms       0\n",
       "calculated_host_listings_count_shared_rooms        0\n",
       "reviews_per_month                               1178\n",
       "dtype: int64"
      ]
     },
     "execution_count": 19,
     "metadata": {},
     "output_type": "execute_result"
    }
   ],
   "source": [
    "listing.isnull().sum()"
   ]
  },
  {
   "cell_type": "markdown",
   "metadata": {},
   "source": [
    "### Dropping Columns"
   ]
  },
  {
   "cell_type": "markdown",
   "metadata": {},
   "source": [
    "Columns with no relevant information"
   ]
  },
  {
   "cell_type": "code",
   "execution_count": 20,
   "metadata": {},
   "outputs": [],
   "source": [
    "listing.drop(columns = ['last_scraped',                         \n",
    "                        'license',\n",
    "                        'host_id',\n",
    "                        'scrape_id',                            \n",
    "                        'listing_url',                          \n",
    "                        'picture_url',                          \n",
    "                        'host_url',                             \n",
    "                        'host_thumbnail_url',                   \n",
    "                        'host_picture_url',                     \n",
    "                        'host_name',                            \n",
    "                        'host_verifications',\n",
    "                        'calendar_last_scraped',\n",
    "                        'host_neighbourhood',\n",
    "                        'host_location',\n",
    "                        'host_response_rate',\n",
    "                        'availability_30',\n",
    "                        'availability_60',\n",
    "                        'availability_90',\n",
    "                        'availability_365',\n",
    "                        'number_of_reviews_ltm',\n",
    "                        'number_of_reviews_l30d',\n",
    "                        'calculated_host_listings_count',\n",
    "                        'calculated_host_listings_count_entire_homes',\n",
    "                        'calculated_host_listings_count_private_rooms',\n",
    "                        'calculated_host_listings_count_shared_rooms'],\n",
    "            inplace = True)"
   ]
  },
  {
   "cell_type": "markdown",
   "metadata": {},
   "source": [
    "Almost all values are nulls"
   ]
  },
  {
   "cell_type": "code",
   "execution_count": 21,
   "metadata": {},
   "outputs": [],
   "source": [
    "listing.drop(columns = ['calendar_updated',                     \n",
    "                        'neighbourhood_group_cleansed',         \n",
    "                        'bathrooms'],\n",
    "            inplace = True)"
   ]
  },
  {
   "cell_type": "markdown",
   "metadata": {},
   "source": [
    "Repeat values from other columns"
   ]
  },
  {
   "cell_type": "code",
   "execution_count": 22,
   "metadata": {},
   "outputs": [],
   "source": [
    "listing.drop(columns = ['minimum_minimum_nights',               \n",
    "                        'maximum_minimum_nights',               \n",
    "                        'minimum_maximum_nights',              \n",
    "                        'maximum_maximum_nights',               \n",
    "                        'minimum_nights_avg_ntm',               \n",
    "                        'maximum_nights_avg_ntm',               \n",
    "                        'neighbourhood',\n",
    "                        'host_total_listings_count',\n",
    "                        'beds',\n",
    "                        'room_type'],                       \n",
    "            inplace = True)"
   ]
  },
  {
   "cell_type": "markdown",
   "metadata": {},
   "source": [
    "Almost all values are the same"
   ]
  },
  {
   "cell_type": "code",
   "execution_count": 23,
   "metadata": {},
   "outputs": [],
   "source": [
    "listing.drop(columns = ['host_has_profile_pic',\n",
    "                        'has_availability'], \n",
    "            inplace = True)"
   ]
  },
  {
   "cell_type": "markdown",
   "metadata": {},
   "source": [
    "Dropping column due to multicollinearity"
   ]
  },
  {
   "cell_type": "code",
   "execution_count": 24,
   "metadata": {},
   "outputs": [],
   "source": [
    "listing.drop(columns = ['host_identity_verified',\n",
    "                        'host_is_superhost'],\n",
    "             inplace = True)"
   ]
  },
  {
   "cell_type": "markdown",
   "metadata": {},
   "source": [
    "### Dropping Nulls"
   ]
  },
  {
   "cell_type": "markdown",
   "metadata": {},
   "source": [
    "The rows with no description are also missing data for many other rows."
   ]
  },
  {
   "cell_type": "code",
   "execution_count": 25,
   "metadata": {},
   "outputs": [],
   "source": [
    "listing.dropna(subset=['description'], inplace = True)"
   ]
  },
  {
   "cell_type": "markdown",
   "metadata": {},
   "source": [
    "Since these rows have no values for these columns, it is implied that they had no reviews."
   ]
  },
  {
   "cell_type": "code",
   "execution_count": 26,
   "metadata": {},
   "outputs": [],
   "source": [
    "listing.dropna(subset=['first_review',\n",
    "                       'last_review',\n",
    "                       'review_scores_rating',\n",
    "                       'review_scores_accuracy',\n",
    "                       'review_scores_cleanliness',\n",
    "                       'review_scores_checkin',\n",
    "                       'review_scores_communication',\n",
    "                       'review_scores_location',\n",
    "                       'review_scores_value',\n",
    "                       'host_listings_count'],\n",
    "               inplace = True)"
   ]
  },
  {
   "cell_type": "markdown",
   "metadata": {},
   "source": [
    "### Imputing Nulls"
   ]
  },
  {
   "cell_type": "markdown",
   "metadata": {},
   "source": [
    "Filling the nulls with 'No Content' because there are 1091 nulls for 'neighborhood_overview' and 1476 nulls for 'host_about'."
   ]
  },
  {
   "cell_type": "code",
   "execution_count": 27,
   "metadata": {},
   "outputs": [],
   "source": [
    "listing['neighborhood_overview'].fillna('No Content', inplace = True)\n",
    "listing['host_about'].fillna('No Content', inplace = True)"
   ]
  },
  {
   "cell_type": "markdown",
   "metadata": {},
   "source": [
    "Filling in the 1 null for 'bathroom_text' with '1 bath' since it is for a listing of a 1 bedroom apartment, it most likely has only 1 bathroom available."
   ]
  },
  {
   "cell_type": "code",
   "execution_count": 28,
   "metadata": {},
   "outputs": [],
   "source": [
    "listing['bathrooms_text'].fillna('1 bath', inplace = True)"
   ]
  },
  {
   "cell_type": "markdown",
   "metadata": {},
   "source": [
    "Filling the null values for 'host_acceptance_rate' with the mean value. First, converting the values from percentages into floats."
   ]
  },
  {
   "cell_type": "code",
   "execution_count": 29,
   "metadata": {},
   "outputs": [],
   "source": [
    "listing['host_acceptance_rate'] = listing['host_acceptance_rate'].str.replace('%', '').astype('float')/100.0"
   ]
  },
  {
   "cell_type": "code",
   "execution_count": 30,
   "metadata": {},
   "outputs": [],
   "source": [
    "avg_acceptance_rate = listing['host_acceptance_rate'].value_counts().mean()"
   ]
  },
  {
   "cell_type": "code",
   "execution_count": 31,
   "metadata": {},
   "outputs": [],
   "source": [
    "listing['host_acceptance_rate'].fillna(avg_acceptance_rate, inplace = True)"
   ]
  },
  {
   "cell_type": "markdown",
   "metadata": {},
   "source": [
    "Filling the null values for 'bedrooms' with '1.0' since that is the most frequent value."
   ]
  },
  {
   "cell_type": "code",
   "execution_count": 32,
   "metadata": {},
   "outputs": [],
   "source": [
    "listing['bedrooms'].fillna('1.0', inplace = True)"
   ]
  },
  {
   "cell_type": "markdown",
   "metadata": {},
   "source": [
    "Filling the null values for 'host_response_time' with 'within a few hours' since that is the most reasonable."
   ]
  },
  {
   "cell_type": "code",
   "execution_count": 33,
   "metadata": {},
   "outputs": [
    {
     "data": {
      "text/plain": [
       "1261"
      ]
     },
     "execution_count": 33,
     "metadata": {},
     "output_type": "execute_result"
    }
   ],
   "source": [
    "listing['host_response_time'].isnull().sum()"
   ]
  },
  {
   "cell_type": "code",
   "execution_count": 34,
   "metadata": {},
   "outputs": [
    {
     "data": {
      "text/plain": [
       "within an hour        2813\n",
       "within a few hours     582\n",
       "within a day           353\n",
       "a few days or more     108\n",
       "Name: host_response_time, dtype: int64"
      ]
     },
     "execution_count": 34,
     "metadata": {},
     "output_type": "execute_result"
    }
   ],
   "source": [
    "listing['host_response_time'].value_counts()"
   ]
  },
  {
   "cell_type": "code",
   "execution_count": 35,
   "metadata": {},
   "outputs": [],
   "source": [
    "listing['host_response_time'].fillna('within a few hours', inplace = True)"
   ]
  },
  {
   "cell_type": "markdown",
   "metadata": {},
   "source": [
    "## Save clean dataframes"
   ]
  },
  {
   "cell_type": "markdown",
   "metadata": {},
   "source": [
    "Verify all nulls are dealt with."
   ]
  },
  {
   "cell_type": "code",
   "execution_count": 36,
   "metadata": {},
   "outputs": [
    {
     "data": {
      "text/plain": [
       "0"
      ]
     },
     "execution_count": 36,
     "metadata": {},
     "output_type": "execute_result"
    }
   ],
   "source": [
    "listing.isnull().sum().sum()"
   ]
  },
  {
   "cell_type": "code",
   "execution_count": 37,
   "metadata": {},
   "outputs": [
    {
     "data": {
      "text/plain": [
       "0"
      ]
     },
     "execution_count": 37,
     "metadata": {},
     "output_type": "execute_result"
    }
   ],
   "source": [
    "review.isnull().sum().sum()"
   ]
  },
  {
   "cell_type": "markdown",
   "metadata": {},
   "source": [
    "Checking the final amount of columns and rows for the final dataframe."
   ]
  },
  {
   "cell_type": "code",
   "execution_count": 38,
   "metadata": {},
   "outputs": [
    {
     "name": "stdout",
     "output_type": "stream",
     "text": [
      "Shape for Chicago Listings CSV: (5117, 32)\n",
      "Shape for Chicago Reviews CSV: (60204, 3)\n"
     ]
    }
   ],
   "source": [
    "print(f'Shape for Chicago Listings CSV: {listing.shape}')\n",
    "print(f'Shape for Chicago Reviews CSV: {review.shape}')"
   ]
  },
  {
   "cell_type": "markdown",
   "metadata": {},
   "source": [
    "Saving finalized dataframes as new CSV files."
   ]
  },
  {
   "cell_type": "code",
   "execution_count": 39,
   "metadata": {},
   "outputs": [],
   "source": [
    "listing.to_csv('./data/Chicago_Listings_Clean', index = False)\n",
    "review.to_csv('./data/Chicago_Reviews_Clean', index = False)"
   ]
  }
 ],
 "metadata": {
  "kernelspec": {
   "display_name": "Python 3",
   "language": "python",
   "name": "python3"
  },
  "language_info": {
   "codemirror_mode": {
    "name": "ipython",
    "version": 3
   },
   "file_extension": ".py",
   "mimetype": "text/x-python",
   "name": "python",
   "nbconvert_exporter": "python",
   "pygments_lexer": "ipython3",
   "version": "3.8.5"
  }
 },
 "nbformat": 4,
 "nbformat_minor": 4
}
