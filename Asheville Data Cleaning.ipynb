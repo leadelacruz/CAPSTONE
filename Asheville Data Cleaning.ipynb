{
 "cells": [
  {
   "cell_type": "markdown",
   "metadata": {},
   "source": [
    "# Asheville: Data Cleaning "
   ]
  },
  {
   "cell_type": "code",
   "execution_count": 1,
   "metadata": {},
   "outputs": [],
   "source": [
    "# ! pip install langdetect"
   ]
  },
  {
   "cell_type": "code",
   "execution_count": 2,
   "metadata": {},
   "outputs": [],
   "source": [
    "import pandas as pd\n",
    "import ast\n",
    "from langdetect import detect\n",
    "\n",
    "pd.set_option(\"display.max_columns\", 100)\n",
    "pd.set_option(\"display.max_rows\", 100)"
   ]
  },
  {
   "cell_type": "code",
   "execution_count": 3,
   "metadata": {},
   "outputs": [],
   "source": [
    "listing = pd.read_csv('./data/Asheville_listings.csv')\n",
    "review = pd.read_csv('./data/Asheville_reviews.csv')"
   ]
  },
  {
   "cell_type": "code",
   "execution_count": 4,
   "metadata": {},
   "outputs": [
    {
     "name": "stdout",
     "output_type": "stream",
     "text": [
      "Shape for Asheville Listings CSV: (2246, 74)\n",
      "Shape for Asheville Reviews CSV: (181684, 6)\n"
     ]
    }
   ],
   "source": [
    "print(f'Shape for Asheville Listings CSV: {listing.shape}')\n",
    "print(f'Shape for Asheville Reviews CSV: {review.shape}')"
   ]
  },
  {
   "cell_type": "markdown",
   "metadata": {},
   "source": [
    "## Claning Review csv file"
   ]
  },
  {
   "cell_type": "code",
   "execution_count": 5,
   "metadata": {
    "scrolled": true
   },
   "outputs": [
    {
     "data": {
      "text/html": [
       "<div>\n",
       "<style scoped>\n",
       "    .dataframe tbody tr th:only-of-type {\n",
       "        vertical-align: middle;\n",
       "    }\n",
       "\n",
       "    .dataframe tbody tr th {\n",
       "        vertical-align: top;\n",
       "    }\n",
       "\n",
       "    .dataframe thead th {\n",
       "        text-align: right;\n",
       "    }\n",
       "</style>\n",
       "<table border=\"1\" class=\"dataframe\">\n",
       "  <thead>\n",
       "    <tr style=\"text-align: right;\">\n",
       "      <th></th>\n",
       "      <th>listing_id</th>\n",
       "      <th>id</th>\n",
       "      <th>date</th>\n",
       "      <th>reviewer_id</th>\n",
       "      <th>reviewer_name</th>\n",
       "      <th>comments</th>\n",
       "    </tr>\n",
       "  </thead>\n",
       "  <tbody>\n",
       "    <tr>\n",
       "      <th>0</th>\n",
       "      <td>108061</td>\n",
       "      <td>553741</td>\n",
       "      <td>2011-09-21</td>\n",
       "      <td>822907</td>\n",
       "      <td>Pedro &amp; Katie</td>\n",
       "      <td>Lisa is superb hostess, she will treat you lik...</td>\n",
       "    </tr>\n",
       "    <tr>\n",
       "      <th>1</th>\n",
       "      <td>108061</td>\n",
       "      <td>683278</td>\n",
       "      <td>2011-11-01</td>\n",
       "      <td>236064</td>\n",
       "      <td>Tim</td>\n",
       "      <td>This was a lovely little place walking distanc...</td>\n",
       "    </tr>\n",
       "    <tr>\n",
       "      <th>2</th>\n",
       "      <td>108061</td>\n",
       "      <td>714889</td>\n",
       "      <td>2011-11-13</td>\n",
       "      <td>1382707</td>\n",
       "      <td>Shane</td>\n",
       "      <td>Lisa was very nice to work with.  However, we ...</td>\n",
       "    </tr>\n",
       "    <tr>\n",
       "      <th>3</th>\n",
       "      <td>108061</td>\n",
       "      <td>1766157</td>\n",
       "      <td>2012-07-21</td>\n",
       "      <td>416731</td>\n",
       "      <td>Brenda</td>\n",
       "      <td>I feel very lucky to have found this beautiful...</td>\n",
       "    </tr>\n",
       "    <tr>\n",
       "      <th>4</th>\n",
       "      <td>108061</td>\n",
       "      <td>2033065</td>\n",
       "      <td>2012-08-19</td>\n",
       "      <td>1858880</td>\n",
       "      <td>Lindsey</td>\n",
       "      <td>Great roomy little apartment, beautiful privat...</td>\n",
       "    </tr>\n",
       "  </tbody>\n",
       "</table>\n",
       "</div>"
      ],
      "text/plain": [
       "   listing_id       id        date  reviewer_id  reviewer_name  \\\n",
       "0      108061   553741  2011-09-21       822907  Pedro & Katie   \n",
       "1      108061   683278  2011-11-01       236064            Tim   \n",
       "2      108061   714889  2011-11-13      1382707          Shane   \n",
       "3      108061  1766157  2012-07-21       416731         Brenda   \n",
       "4      108061  2033065  2012-08-19      1858880        Lindsey   \n",
       "\n",
       "                                            comments  \n",
       "0  Lisa is superb hostess, she will treat you lik...  \n",
       "1  This was a lovely little place walking distanc...  \n",
       "2  Lisa was very nice to work with.  However, we ...  \n",
       "3  I feel very lucky to have found this beautiful...  \n",
       "4  Great roomy little apartment, beautiful privat...  "
      ]
     },
     "execution_count": 5,
     "metadata": {},
     "output_type": "execute_result"
    }
   ],
   "source": [
    "review.head()"
   ]
  },
  {
   "cell_type": "markdown",
   "metadata": {},
   "source": [
    "Dropping unnecessary columns"
   ]
  },
  {
   "cell_type": "code",
   "execution_count": 6,
   "metadata": {},
   "outputs": [],
   "source": [
    "review.drop(columns = ['id',\n",
    "                       'reviewer_id',\n",
    "                       'reviewer_name'],\n",
    "            inplace = True)"
   ]
  },
  {
   "cell_type": "markdown",
   "metadata": {},
   "source": [
    "Removing all reviews that are not from 2018-2019"
   ]
  },
  {
   "cell_type": "code",
   "execution_count": 7,
   "metadata": {},
   "outputs": [],
   "source": [
    "review = review[(review['date'] >= '2018-01-01') & (review['date'] <= '2019-12-31')]"
   ]
  },
  {
   "cell_type": "code",
   "execution_count": 8,
   "metadata": {},
   "outputs": [
    {
     "data": {
      "text/plain": [
       "(86722, 3)"
      ]
     },
     "execution_count": 8,
     "metadata": {},
     "output_type": "execute_result"
    }
   ],
   "source": [
    "review.shape"
   ]
  },
  {
   "cell_type": "markdown",
   "metadata": {},
   "source": [
    "Dropping all rows with null values"
   ]
  },
  {
   "cell_type": "code",
   "execution_count": 9,
   "metadata": {},
   "outputs": [
    {
     "data": {
      "text/plain": [
       "listing_id     0\n",
       "date           0\n",
       "comments      33\n",
       "dtype: int64"
      ]
     },
     "execution_count": 9,
     "metadata": {},
     "output_type": "execute_result"
    }
   ],
   "source": [
    "review.isnull().sum()"
   ]
  },
  {
   "cell_type": "code",
   "execution_count": 10,
   "metadata": {},
   "outputs": [],
   "source": [
    "review = review.dropna()"
   ]
  },
  {
   "cell_type": "markdown",
   "metadata": {},
   "source": [
    "After doing some EDA these are some of the things I noticed needed to be addressed."
   ]
  },
  {
   "cell_type": "markdown",
   "metadata": {},
   "source": [
    "Remove all reviews that are less than 5 words."
   ]
  },
  {
   "cell_type": "code",
   "execution_count": 12,
   "metadata": {},
   "outputs": [],
   "source": [
    "review = review[review['comments'].str.count(' ') > 4]"
   ]
  },
  {
   "cell_type": "markdown",
   "metadata": {},
   "source": [
    "Remove all reviews that are not in English."
   ]
  },
  {
   "cell_type": "code",
   "execution_count": 13,
   "metadata": {},
   "outputs": [],
   "source": [
    "review.drop([i for i in review[review['comments'].apply(detect) != 'en'].index], inplace=True)"
   ]
  },
  {
   "cell_type": "markdown",
   "metadata": {},
   "source": [
    "Remove '\\n' since this is just an indicator for a line break."
   ]
  },
  {
   "cell_type": "code",
   "execution_count": 14,
   "metadata": {},
   "outputs": [],
   "source": [
    "review['comments'] = review['comments'].str.replace('\\n', '')"
   ]
  },
  {
   "cell_type": "markdown",
   "metadata": {},
   "source": [
    "Removing any numbers from the comments."
   ]
  },
  {
   "cell_type": "code",
   "execution_count": 15,
   "metadata": {},
   "outputs": [],
   "source": [
    "review['comments'] = review['comments'].replace('\\d+', '', regex=True)"
   ]
  },
  {
   "cell_type": "markdown",
   "metadata": {},
   "source": [
    "Removing reviews written in Asian languages."
   ]
  },
  {
   "cell_type": "code",
   "execution_count": 16,
   "metadata": {},
   "outputs": [],
   "source": [
    "review.drop([i for i in review[review['comments'].str.contains(r'[^\\x00-\\x7F]+') == True].index], inplace = True)"
   ]
  },
  {
   "cell_type": "markdown",
   "metadata": {},
   "source": [
    "Removing rows where the comments were generated by AirBnb due to the host cancelling a booked reservation."
   ]
  },
  {
   "cell_type": "code",
   "execution_count": 17,
   "metadata": {},
   "outputs": [],
   "source": [
    "review.drop([i for i in review[review['comments'].str.contains('This is an automated posting') == True].index], inplace = True)"
   ]
  },
  {
   "cell_type": "markdown",
   "metadata": {},
   "source": [
    "## Cleaning Listing csv file"
   ]
  },
  {
   "cell_type": "code",
   "execution_count": 18,
   "metadata": {
    "scrolled": false
   },
   "outputs": [
    {
     "data": {
      "text/html": [
       "<div>\n",
       "<style scoped>\n",
       "    .dataframe tbody tr th:only-of-type {\n",
       "        vertical-align: middle;\n",
       "    }\n",
       "\n",
       "    .dataframe tbody tr th {\n",
       "        vertical-align: top;\n",
       "    }\n",
       "\n",
       "    .dataframe thead th {\n",
       "        text-align: right;\n",
       "    }\n",
       "</style>\n",
       "<table border=\"1\" class=\"dataframe\">\n",
       "  <thead>\n",
       "    <tr style=\"text-align: right;\">\n",
       "      <th></th>\n",
       "      <th>id</th>\n",
       "      <th>listing_url</th>\n",
       "      <th>scrape_id</th>\n",
       "      <th>last_scraped</th>\n",
       "      <th>name</th>\n",
       "      <th>description</th>\n",
       "      <th>neighborhood_overview</th>\n",
       "      <th>picture_url</th>\n",
       "      <th>host_id</th>\n",
       "      <th>host_url</th>\n",
       "      <th>host_name</th>\n",
       "      <th>host_since</th>\n",
       "      <th>host_location</th>\n",
       "      <th>host_about</th>\n",
       "      <th>host_response_time</th>\n",
       "      <th>host_response_rate</th>\n",
       "      <th>host_acceptance_rate</th>\n",
       "      <th>host_is_superhost</th>\n",
       "      <th>host_thumbnail_url</th>\n",
       "      <th>host_picture_url</th>\n",
       "      <th>host_neighbourhood</th>\n",
       "      <th>host_listings_count</th>\n",
       "      <th>host_total_listings_count</th>\n",
       "      <th>host_verifications</th>\n",
       "      <th>host_has_profile_pic</th>\n",
       "      <th>host_identity_verified</th>\n",
       "      <th>neighbourhood</th>\n",
       "      <th>neighbourhood_cleansed</th>\n",
       "      <th>neighbourhood_group_cleansed</th>\n",
       "      <th>latitude</th>\n",
       "      <th>longitude</th>\n",
       "      <th>property_type</th>\n",
       "      <th>room_type</th>\n",
       "      <th>accommodates</th>\n",
       "      <th>bathrooms</th>\n",
       "      <th>bathrooms_text</th>\n",
       "      <th>bedrooms</th>\n",
       "      <th>beds</th>\n",
       "      <th>amenities</th>\n",
       "      <th>price</th>\n",
       "      <th>minimum_nights</th>\n",
       "      <th>maximum_nights</th>\n",
       "      <th>minimum_minimum_nights</th>\n",
       "      <th>maximum_minimum_nights</th>\n",
       "      <th>minimum_maximum_nights</th>\n",
       "      <th>maximum_maximum_nights</th>\n",
       "      <th>minimum_nights_avg_ntm</th>\n",
       "      <th>maximum_nights_avg_ntm</th>\n",
       "      <th>calendar_updated</th>\n",
       "      <th>has_availability</th>\n",
       "      <th>availability_30</th>\n",
       "      <th>availability_60</th>\n",
       "      <th>availability_90</th>\n",
       "      <th>availability_365</th>\n",
       "      <th>calendar_last_scraped</th>\n",
       "      <th>number_of_reviews</th>\n",
       "      <th>number_of_reviews_ltm</th>\n",
       "      <th>number_of_reviews_l30d</th>\n",
       "      <th>first_review</th>\n",
       "      <th>last_review</th>\n",
       "      <th>review_scores_rating</th>\n",
       "      <th>review_scores_accuracy</th>\n",
       "      <th>review_scores_cleanliness</th>\n",
       "      <th>review_scores_checkin</th>\n",
       "      <th>review_scores_communication</th>\n",
       "      <th>review_scores_location</th>\n",
       "      <th>review_scores_value</th>\n",
       "      <th>license</th>\n",
       "      <th>instant_bookable</th>\n",
       "      <th>calculated_host_listings_count</th>\n",
       "      <th>calculated_host_listings_count_entire_homes</th>\n",
       "      <th>calculated_host_listings_count_private_rooms</th>\n",
       "      <th>calculated_host_listings_count_shared_rooms</th>\n",
       "      <th>reviews_per_month</th>\n",
       "    </tr>\n",
       "  </thead>\n",
       "  <tbody>\n",
       "    <tr>\n",
       "      <th>0</th>\n",
       "      <td>108061</td>\n",
       "      <td>https://www.airbnb.com/rooms/108061</td>\n",
       "      <td>20210217171651</td>\n",
       "      <td>2021-02-18</td>\n",
       "      <td>Walk to stores/parks/downtown. Fenced yard/Pet...</td>\n",
       "      <td>Walk to town in ten minutes! Monthly rental in...</td>\n",
       "      <td>I love my neighborhood! Its friendly, easy-goi...</td>\n",
       "      <td>https://a0.muscache.com/pictures/41011975/0cdf...</td>\n",
       "      <td>320564</td>\n",
       "      <td>https://www.airbnb.com/users/show/320564</td>\n",
       "      <td>Lisa</td>\n",
       "      <td>2010-12-16</td>\n",
       "      <td>Asheville, North Carolina, United States</td>\n",
       "      <td>I am a long time resident of Asheville and am ...</td>\n",
       "      <td>within a few hours</td>\n",
       "      <td>100%</td>\n",
       "      <td>25%</td>\n",
       "      <td>f</td>\n",
       "      <td>https://a0.muscache.com/im/users/320564/profil...</td>\n",
       "      <td>https://a0.muscache.com/im/users/320564/profil...</td>\n",
       "      <td>NaN</td>\n",
       "      <td>2</td>\n",
       "      <td>2</td>\n",
       "      <td>['email', 'phone', 'facebook', 'reviews', 'off...</td>\n",
       "      <td>t</td>\n",
       "      <td>t</td>\n",
       "      <td>Asheville, North Carolina, United States</td>\n",
       "      <td>28801</td>\n",
       "      <td>NaN</td>\n",
       "      <td>35.60670</td>\n",
       "      <td>-82.55563</td>\n",
       "      <td>Entire apartment</td>\n",
       "      <td>Entire home/apt</td>\n",
       "      <td>2</td>\n",
       "      <td>NaN</td>\n",
       "      <td>1 bath</td>\n",
       "      <td>1.0</td>\n",
       "      <td>1.0</td>\n",
       "      <td>[\"Free parking on premises\", \"Essentials\", \"Co...</td>\n",
       "      <td>$82.00</td>\n",
       "      <td>30</td>\n",
       "      <td>365</td>\n",
       "      <td>30</td>\n",
       "      <td>30</td>\n",
       "      <td>1125</td>\n",
       "      <td>1125</td>\n",
       "      <td>30.0</td>\n",
       "      <td>1125.0</td>\n",
       "      <td>NaN</td>\n",
       "      <td>t</td>\n",
       "      <td>0</td>\n",
       "      <td>0</td>\n",
       "      <td>0</td>\n",
       "      <td>242</td>\n",
       "      <td>2021-02-18</td>\n",
       "      <td>89</td>\n",
       "      <td>0</td>\n",
       "      <td>0</td>\n",
       "      <td>2011-09-21</td>\n",
       "      <td>2019-11-30</td>\n",
       "      <td>90.0</td>\n",
       "      <td>9.0</td>\n",
       "      <td>9.0</td>\n",
       "      <td>10.0</td>\n",
       "      <td>10.0</td>\n",
       "      <td>10.0</td>\n",
       "      <td>9.0</td>\n",
       "      <td>NaN</td>\n",
       "      <td>f</td>\n",
       "      <td>2</td>\n",
       "      <td>2</td>\n",
       "      <td>0</td>\n",
       "      <td>0</td>\n",
       "      <td>0.78</td>\n",
       "    </tr>\n",
       "    <tr>\n",
       "      <th>1</th>\n",
       "      <td>155305</td>\n",
       "      <td>https://www.airbnb.com/rooms/155305</td>\n",
       "      <td>20210217171651</td>\n",
       "      <td>2021-02-18</td>\n",
       "      <td>Cottage! BonPaul + Sharky's Hostel</td>\n",
       "      <td>&lt;b&gt;The space&lt;/b&gt;&lt;br /&gt;Private cottage located ...</td>\n",
       "      <td>We are within easy walk of pubs, breweries, mu...</td>\n",
       "      <td>https://a0.muscache.com/pictures/8880711/cf38d...</td>\n",
       "      <td>746673</td>\n",
       "      <td>https://www.airbnb.com/users/show/746673</td>\n",
       "      <td>BonPaul</td>\n",
       "      <td>2011-06-26</td>\n",
       "      <td>Asheville, North Carolina, United States</td>\n",
       "      <td>We operate two traveler's hostels located in H...</td>\n",
       "      <td>within an hour</td>\n",
       "      <td>91%</td>\n",
       "      <td>100%</td>\n",
       "      <td>t</td>\n",
       "      <td>https://a0.muscache.com/im/pictures/user/4dff7...</td>\n",
       "      <td>https://a0.muscache.com/im/pictures/user/4dff7...</td>\n",
       "      <td>NaN</td>\n",
       "      <td>7</td>\n",
       "      <td>7</td>\n",
       "      <td>['email', 'phone', 'facebook', 'reviews', 'off...</td>\n",
       "      <td>t</td>\n",
       "      <td>t</td>\n",
       "      <td>Asheville, North Carolina, United States</td>\n",
       "      <td>28806</td>\n",
       "      <td>NaN</td>\n",
       "      <td>35.57864</td>\n",
       "      <td>-82.59578</td>\n",
       "      <td>Entire guesthouse</td>\n",
       "      <td>Entire home/apt</td>\n",
       "      <td>2</td>\n",
       "      <td>NaN</td>\n",
       "      <td>1 bath</td>\n",
       "      <td>1.0</td>\n",
       "      <td>1.0</td>\n",
       "      <td>[\"Oven\", \"Hair dryer\", \"Free parking on premis...</td>\n",
       "      <td>$90.00</td>\n",
       "      <td>1</td>\n",
       "      <td>365</td>\n",
       "      <td>1</td>\n",
       "      <td>1</td>\n",
       "      <td>7</td>\n",
       "      <td>1125</td>\n",
       "      <td>1.0</td>\n",
       "      <td>62.7</td>\n",
       "      <td>NaN</td>\n",
       "      <td>t</td>\n",
       "      <td>26</td>\n",
       "      <td>55</td>\n",
       "      <td>85</td>\n",
       "      <td>310</td>\n",
       "      <td>2021-02-18</td>\n",
       "      <td>289</td>\n",
       "      <td>53</td>\n",
       "      <td>4</td>\n",
       "      <td>2011-07-31</td>\n",
       "      <td>2021-02-13</td>\n",
       "      <td>91.0</td>\n",
       "      <td>10.0</td>\n",
       "      <td>9.0</td>\n",
       "      <td>10.0</td>\n",
       "      <td>10.0</td>\n",
       "      <td>10.0</td>\n",
       "      <td>9.0</td>\n",
       "      <td>NaN</td>\n",
       "      <td>t</td>\n",
       "      <td>7</td>\n",
       "      <td>1</td>\n",
       "      <td>2</td>\n",
       "      <td>4</td>\n",
       "      <td>2.48</td>\n",
       "    </tr>\n",
       "    <tr>\n",
       "      <th>2</th>\n",
       "      <td>156805</td>\n",
       "      <td>https://www.airbnb.com/rooms/156805</td>\n",
       "      <td>20210217171651</td>\n",
       "      <td>2021-02-19</td>\n",
       "      <td>Private Room \"Ader\" at BPS Hostel</td>\n",
       "      <td>&lt;b&gt;The space&lt;/b&gt;&lt;br /&gt;Private Rooms at Bon Pau...</td>\n",
       "      <td>Easy walk to pubs, cafes, bakery, breweries, l...</td>\n",
       "      <td>https://a0.muscache.com/pictures/23447d55-fa7e...</td>\n",
       "      <td>746673</td>\n",
       "      <td>https://www.airbnb.com/users/show/746673</td>\n",
       "      <td>BonPaul</td>\n",
       "      <td>2011-06-26</td>\n",
       "      <td>Asheville, North Carolina, United States</td>\n",
       "      <td>We operate two traveler's hostels located in H...</td>\n",
       "      <td>within an hour</td>\n",
       "      <td>91%</td>\n",
       "      <td>100%</td>\n",
       "      <td>t</td>\n",
       "      <td>https://a0.muscache.com/im/pictures/user/4dff7...</td>\n",
       "      <td>https://a0.muscache.com/im/pictures/user/4dff7...</td>\n",
       "      <td>NaN</td>\n",
       "      <td>7</td>\n",
       "      <td>7</td>\n",
       "      <td>['email', 'phone', 'facebook', 'reviews', 'off...</td>\n",
       "      <td>t</td>\n",
       "      <td>t</td>\n",
       "      <td>Asheville, North Carolina, United States</td>\n",
       "      <td>28806</td>\n",
       "      <td>NaN</td>\n",
       "      <td>35.57864</td>\n",
       "      <td>-82.59578</td>\n",
       "      <td>Private room in house</td>\n",
       "      <td>Private room</td>\n",
       "      <td>2</td>\n",
       "      <td>NaN</td>\n",
       "      <td>2.5 shared baths</td>\n",
       "      <td>1.0</td>\n",
       "      <td>1.0</td>\n",
       "      <td>[\"Coffee maker\", \"Fire extinguisher\", \"Lock on...</td>\n",
       "      <td>$66.00</td>\n",
       "      <td>1</td>\n",
       "      <td>365</td>\n",
       "      <td>1</td>\n",
       "      <td>1</td>\n",
       "      <td>365</td>\n",
       "      <td>365</td>\n",
       "      <td>1.0</td>\n",
       "      <td>365.0</td>\n",
       "      <td>NaN</td>\n",
       "      <td>t</td>\n",
       "      <td>0</td>\n",
       "      <td>0</td>\n",
       "      <td>0</td>\n",
       "      <td>16</td>\n",
       "      <td>2021-02-19</td>\n",
       "      <td>67</td>\n",
       "      <td>0</td>\n",
       "      <td>0</td>\n",
       "      <td>2011-09-20</td>\n",
       "      <td>2020-01-01</td>\n",
       "      <td>90.0</td>\n",
       "      <td>10.0</td>\n",
       "      <td>9.0</td>\n",
       "      <td>10.0</td>\n",
       "      <td>9.0</td>\n",
       "      <td>10.0</td>\n",
       "      <td>9.0</td>\n",
       "      <td>NaN</td>\n",
       "      <td>t</td>\n",
       "      <td>7</td>\n",
       "      <td>1</td>\n",
       "      <td>2</td>\n",
       "      <td>4</td>\n",
       "      <td>0.58</td>\n",
       "    </tr>\n",
       "    <tr>\n",
       "      <th>3</th>\n",
       "      <td>156926</td>\n",
       "      <td>https://www.airbnb.com/rooms/156926</td>\n",
       "      <td>20210217171651</td>\n",
       "      <td>2021-02-18</td>\n",
       "      <td>Mixed Dorm \"Top Bunk #1\" at BPS Hostel</td>\n",
       "      <td>This is a top bunk in the mixed dorm room&lt;br /...</td>\n",
       "      <td>NaN</td>\n",
       "      <td>https://a0.muscache.com/pictures/98f4e655-c4d6...</td>\n",
       "      <td>746673</td>\n",
       "      <td>https://www.airbnb.com/users/show/746673</td>\n",
       "      <td>BonPaul</td>\n",
       "      <td>2011-06-26</td>\n",
       "      <td>Asheville, North Carolina, United States</td>\n",
       "      <td>We operate two traveler's hostels located in H...</td>\n",
       "      <td>within an hour</td>\n",
       "      <td>91%</td>\n",
       "      <td>100%</td>\n",
       "      <td>t</td>\n",
       "      <td>https://a0.muscache.com/im/pictures/user/4dff7...</td>\n",
       "      <td>https://a0.muscache.com/im/pictures/user/4dff7...</td>\n",
       "      <td>NaN</td>\n",
       "      <td>7</td>\n",
       "      <td>7</td>\n",
       "      <td>['email', 'phone', 'facebook', 'reviews', 'off...</td>\n",
       "      <td>t</td>\n",
       "      <td>t</td>\n",
       "      <td>NaN</td>\n",
       "      <td>28806</td>\n",
       "      <td>NaN</td>\n",
       "      <td>35.57864</td>\n",
       "      <td>-82.59578</td>\n",
       "      <td>Shared room in hostel</td>\n",
       "      <td>Shared room</td>\n",
       "      <td>1</td>\n",
       "      <td>NaN</td>\n",
       "      <td>2.5 shared baths</td>\n",
       "      <td>1.0</td>\n",
       "      <td>6.0</td>\n",
       "      <td>[\"Carbon monoxide alarm\", \"Dishes and silverwa...</td>\n",
       "      <td>$31.00</td>\n",
       "      <td>1</td>\n",
       "      <td>365</td>\n",
       "      <td>1</td>\n",
       "      <td>1</td>\n",
       "      <td>1</td>\n",
       "      <td>365</td>\n",
       "      <td>1.0</td>\n",
       "      <td>49.7</td>\n",
       "      <td>NaN</td>\n",
       "      <td>t</td>\n",
       "      <td>0</td>\n",
       "      <td>19</td>\n",
       "      <td>49</td>\n",
       "      <td>281</td>\n",
       "      <td>2021-02-18</td>\n",
       "      <td>282</td>\n",
       "      <td>6</td>\n",
       "      <td>0</td>\n",
       "      <td>2011-09-01</td>\n",
       "      <td>2020-12-31</td>\n",
       "      <td>94.0</td>\n",
       "      <td>10.0</td>\n",
       "      <td>9.0</td>\n",
       "      <td>10.0</td>\n",
       "      <td>9.0</td>\n",
       "      <td>10.0</td>\n",
       "      <td>10.0</td>\n",
       "      <td>NaN</td>\n",
       "      <td>t</td>\n",
       "      <td>7</td>\n",
       "      <td>1</td>\n",
       "      <td>2</td>\n",
       "      <td>4</td>\n",
       "      <td>2.45</td>\n",
       "    </tr>\n",
       "    <tr>\n",
       "      <th>4</th>\n",
       "      <td>160594</td>\n",
       "      <td>https://www.airbnb.com/rooms/160594</td>\n",
       "      <td>20210217171651</td>\n",
       "      <td>2021-02-17</td>\n",
       "      <td>Historic Grove Park</td>\n",
       "      <td>Come enjoy the beautiful Grove Park neighborho...</td>\n",
       "      <td>NaN</td>\n",
       "      <td>https://a0.muscache.com/pictures/92433837/d340...</td>\n",
       "      <td>769252</td>\n",
       "      <td>https://www.airbnb.com/users/show/769252</td>\n",
       "      <td>Elizabeth</td>\n",
       "      <td>2011-07-02</td>\n",
       "      <td>Asheville, North Carolina, United States</td>\n",
       "      <td>We love having guests and sharing a piece of h...</td>\n",
       "      <td>NaN</td>\n",
       "      <td>NaN</td>\n",
       "      <td>NaN</td>\n",
       "      <td>f</td>\n",
       "      <td>https://a0.muscache.com/im/users/769252/profil...</td>\n",
       "      <td>https://a0.muscache.com/im/users/769252/profil...</td>\n",
       "      <td>NaN</td>\n",
       "      <td>1</td>\n",
       "      <td>1</td>\n",
       "      <td>['email', 'phone', 'reviews', 'kba', 'work_ema...</td>\n",
       "      <td>t</td>\n",
       "      <td>f</td>\n",
       "      <td>NaN</td>\n",
       "      <td>28801</td>\n",
       "      <td>NaN</td>\n",
       "      <td>35.61442</td>\n",
       "      <td>-82.54127</td>\n",
       "      <td>Private room in house</td>\n",
       "      <td>Private room</td>\n",
       "      <td>2</td>\n",
       "      <td>NaN</td>\n",
       "      <td>1 bath</td>\n",
       "      <td>1.0</td>\n",
       "      <td>1.0</td>\n",
       "      <td>[\"Lock on bedroom door\", \"Free parking on prem...</td>\n",
       "      <td>$125.00</td>\n",
       "      <td>30</td>\n",
       "      <td>1125</td>\n",
       "      <td>30</td>\n",
       "      <td>30</td>\n",
       "      <td>1125</td>\n",
       "      <td>1125</td>\n",
       "      <td>30.0</td>\n",
       "      <td>1125.0</td>\n",
       "      <td>NaN</td>\n",
       "      <td>f</td>\n",
       "      <td>0</td>\n",
       "      <td>0</td>\n",
       "      <td>0</td>\n",
       "      <td>0</td>\n",
       "      <td>2021-02-17</td>\n",
       "      <td>58</td>\n",
       "      <td>0</td>\n",
       "      <td>0</td>\n",
       "      <td>2011-08-07</td>\n",
       "      <td>2015-10-19</td>\n",
       "      <td>99.0</td>\n",
       "      <td>10.0</td>\n",
       "      <td>10.0</td>\n",
       "      <td>10.0</td>\n",
       "      <td>10.0</td>\n",
       "      <td>10.0</td>\n",
       "      <td>10.0</td>\n",
       "      <td>NaN</td>\n",
       "      <td>f</td>\n",
       "      <td>1</td>\n",
       "      <td>0</td>\n",
       "      <td>1</td>\n",
       "      <td>0</td>\n",
       "      <td>0.50</td>\n",
       "    </tr>\n",
       "  </tbody>\n",
       "</table>\n",
       "</div>"
      ],
      "text/plain": [
       "       id                          listing_url       scrape_id last_scraped  \\\n",
       "0  108061  https://www.airbnb.com/rooms/108061  20210217171651   2021-02-18   \n",
       "1  155305  https://www.airbnb.com/rooms/155305  20210217171651   2021-02-18   \n",
       "2  156805  https://www.airbnb.com/rooms/156805  20210217171651   2021-02-19   \n",
       "3  156926  https://www.airbnb.com/rooms/156926  20210217171651   2021-02-18   \n",
       "4  160594  https://www.airbnb.com/rooms/160594  20210217171651   2021-02-17   \n",
       "\n",
       "                                                name  \\\n",
       "0  Walk to stores/parks/downtown. Fenced yard/Pet...   \n",
       "1                 Cottage! BonPaul + Sharky's Hostel   \n",
       "2                  Private Room \"Ader\" at BPS Hostel   \n",
       "3             Mixed Dorm \"Top Bunk #1\" at BPS Hostel   \n",
       "4                                Historic Grove Park   \n",
       "\n",
       "                                         description  \\\n",
       "0  Walk to town in ten minutes! Monthly rental in...   \n",
       "1  <b>The space</b><br />Private cottage located ...   \n",
       "2  <b>The space</b><br />Private Rooms at Bon Pau...   \n",
       "3  This is a top bunk in the mixed dorm room<br /...   \n",
       "4  Come enjoy the beautiful Grove Park neighborho...   \n",
       "\n",
       "                               neighborhood_overview  \\\n",
       "0  I love my neighborhood! Its friendly, easy-goi...   \n",
       "1  We are within easy walk of pubs, breweries, mu...   \n",
       "2  Easy walk to pubs, cafes, bakery, breweries, l...   \n",
       "3                                                NaN   \n",
       "4                                                NaN   \n",
       "\n",
       "                                         picture_url  host_id  \\\n",
       "0  https://a0.muscache.com/pictures/41011975/0cdf...   320564   \n",
       "1  https://a0.muscache.com/pictures/8880711/cf38d...   746673   \n",
       "2  https://a0.muscache.com/pictures/23447d55-fa7e...   746673   \n",
       "3  https://a0.muscache.com/pictures/98f4e655-c4d6...   746673   \n",
       "4  https://a0.muscache.com/pictures/92433837/d340...   769252   \n",
       "\n",
       "                                   host_url  host_name  host_since  \\\n",
       "0  https://www.airbnb.com/users/show/320564       Lisa  2010-12-16   \n",
       "1  https://www.airbnb.com/users/show/746673    BonPaul  2011-06-26   \n",
       "2  https://www.airbnb.com/users/show/746673    BonPaul  2011-06-26   \n",
       "3  https://www.airbnb.com/users/show/746673    BonPaul  2011-06-26   \n",
       "4  https://www.airbnb.com/users/show/769252  Elizabeth  2011-07-02   \n",
       "\n",
       "                              host_location  \\\n",
       "0  Asheville, North Carolina, United States   \n",
       "1  Asheville, North Carolina, United States   \n",
       "2  Asheville, North Carolina, United States   \n",
       "3  Asheville, North Carolina, United States   \n",
       "4  Asheville, North Carolina, United States   \n",
       "\n",
       "                                          host_about  host_response_time  \\\n",
       "0  I am a long time resident of Asheville and am ...  within a few hours   \n",
       "1  We operate two traveler's hostels located in H...      within an hour   \n",
       "2  We operate two traveler's hostels located in H...      within an hour   \n",
       "3  We operate two traveler's hostels located in H...      within an hour   \n",
       "4  We love having guests and sharing a piece of h...                 NaN   \n",
       "\n",
       "  host_response_rate host_acceptance_rate host_is_superhost  \\\n",
       "0               100%                  25%                 f   \n",
       "1                91%                 100%                 t   \n",
       "2                91%                 100%                 t   \n",
       "3                91%                 100%                 t   \n",
       "4                NaN                  NaN                 f   \n",
       "\n",
       "                                  host_thumbnail_url  \\\n",
       "0  https://a0.muscache.com/im/users/320564/profil...   \n",
       "1  https://a0.muscache.com/im/pictures/user/4dff7...   \n",
       "2  https://a0.muscache.com/im/pictures/user/4dff7...   \n",
       "3  https://a0.muscache.com/im/pictures/user/4dff7...   \n",
       "4  https://a0.muscache.com/im/users/769252/profil...   \n",
       "\n",
       "                                    host_picture_url host_neighbourhood  \\\n",
       "0  https://a0.muscache.com/im/users/320564/profil...                NaN   \n",
       "1  https://a0.muscache.com/im/pictures/user/4dff7...                NaN   \n",
       "2  https://a0.muscache.com/im/pictures/user/4dff7...                NaN   \n",
       "3  https://a0.muscache.com/im/pictures/user/4dff7...                NaN   \n",
       "4  https://a0.muscache.com/im/users/769252/profil...                NaN   \n",
       "\n",
       "   host_listings_count  host_total_listings_count  \\\n",
       "0                    2                          2   \n",
       "1                    7                          7   \n",
       "2                    7                          7   \n",
       "3                    7                          7   \n",
       "4                    1                          1   \n",
       "\n",
       "                                  host_verifications host_has_profile_pic  \\\n",
       "0  ['email', 'phone', 'facebook', 'reviews', 'off...                    t   \n",
       "1  ['email', 'phone', 'facebook', 'reviews', 'off...                    t   \n",
       "2  ['email', 'phone', 'facebook', 'reviews', 'off...                    t   \n",
       "3  ['email', 'phone', 'facebook', 'reviews', 'off...                    t   \n",
       "4  ['email', 'phone', 'reviews', 'kba', 'work_ema...                    t   \n",
       "\n",
       "  host_identity_verified                             neighbourhood  \\\n",
       "0                      t  Asheville, North Carolina, United States   \n",
       "1                      t  Asheville, North Carolina, United States   \n",
       "2                      t  Asheville, North Carolina, United States   \n",
       "3                      t                                       NaN   \n",
       "4                      f                                       NaN   \n",
       "\n",
       "   neighbourhood_cleansed  neighbourhood_group_cleansed  latitude  longitude  \\\n",
       "0                   28801                           NaN  35.60670  -82.55563   \n",
       "1                   28806                           NaN  35.57864  -82.59578   \n",
       "2                   28806                           NaN  35.57864  -82.59578   \n",
       "3                   28806                           NaN  35.57864  -82.59578   \n",
       "4                   28801                           NaN  35.61442  -82.54127   \n",
       "\n",
       "           property_type        room_type  accommodates  bathrooms  \\\n",
       "0       Entire apartment  Entire home/apt             2        NaN   \n",
       "1      Entire guesthouse  Entire home/apt             2        NaN   \n",
       "2  Private room in house     Private room             2        NaN   \n",
       "3  Shared room in hostel      Shared room             1        NaN   \n",
       "4  Private room in house     Private room             2        NaN   \n",
       "\n",
       "     bathrooms_text  bedrooms  beds  \\\n",
       "0            1 bath       1.0   1.0   \n",
       "1            1 bath       1.0   1.0   \n",
       "2  2.5 shared baths       1.0   1.0   \n",
       "3  2.5 shared baths       1.0   6.0   \n",
       "4            1 bath       1.0   1.0   \n",
       "\n",
       "                                           amenities    price  minimum_nights  \\\n",
       "0  [\"Free parking on premises\", \"Essentials\", \"Co...   $82.00              30   \n",
       "1  [\"Oven\", \"Hair dryer\", \"Free parking on premis...   $90.00               1   \n",
       "2  [\"Coffee maker\", \"Fire extinguisher\", \"Lock on...   $66.00               1   \n",
       "3  [\"Carbon monoxide alarm\", \"Dishes and silverwa...   $31.00               1   \n",
       "4  [\"Lock on bedroom door\", \"Free parking on prem...  $125.00              30   \n",
       "\n",
       "   maximum_nights  minimum_minimum_nights  maximum_minimum_nights  \\\n",
       "0             365                      30                      30   \n",
       "1             365                       1                       1   \n",
       "2             365                       1                       1   \n",
       "3             365                       1                       1   \n",
       "4            1125                      30                      30   \n",
       "\n",
       "   minimum_maximum_nights  maximum_maximum_nights  minimum_nights_avg_ntm  \\\n",
       "0                    1125                    1125                    30.0   \n",
       "1                       7                    1125                     1.0   \n",
       "2                     365                     365                     1.0   \n",
       "3                       1                     365                     1.0   \n",
       "4                    1125                    1125                    30.0   \n",
       "\n",
       "   maximum_nights_avg_ntm  calendar_updated has_availability  availability_30  \\\n",
       "0                  1125.0               NaN                t                0   \n",
       "1                    62.7               NaN                t               26   \n",
       "2                   365.0               NaN                t                0   \n",
       "3                    49.7               NaN                t                0   \n",
       "4                  1125.0               NaN                f                0   \n",
       "\n",
       "   availability_60  availability_90  availability_365 calendar_last_scraped  \\\n",
       "0                0                0               242            2021-02-18   \n",
       "1               55               85               310            2021-02-18   \n",
       "2                0                0                16            2021-02-19   \n",
       "3               19               49               281            2021-02-18   \n",
       "4                0                0                 0            2021-02-17   \n",
       "\n",
       "   number_of_reviews  number_of_reviews_ltm  number_of_reviews_l30d  \\\n",
       "0                 89                      0                       0   \n",
       "1                289                     53                       4   \n",
       "2                 67                      0                       0   \n",
       "3                282                      6                       0   \n",
       "4                 58                      0                       0   \n",
       "\n",
       "  first_review last_review  review_scores_rating  review_scores_accuracy  \\\n",
       "0   2011-09-21  2019-11-30                  90.0                     9.0   \n",
       "1   2011-07-31  2021-02-13                  91.0                    10.0   \n",
       "2   2011-09-20  2020-01-01                  90.0                    10.0   \n",
       "3   2011-09-01  2020-12-31                  94.0                    10.0   \n",
       "4   2011-08-07  2015-10-19                  99.0                    10.0   \n",
       "\n",
       "   review_scores_cleanliness  review_scores_checkin  \\\n",
       "0                        9.0                   10.0   \n",
       "1                        9.0                   10.0   \n",
       "2                        9.0                   10.0   \n",
       "3                        9.0                   10.0   \n",
       "4                       10.0                   10.0   \n",
       "\n",
       "   review_scores_communication  review_scores_location  review_scores_value  \\\n",
       "0                         10.0                    10.0                  9.0   \n",
       "1                         10.0                    10.0                  9.0   \n",
       "2                          9.0                    10.0                  9.0   \n",
       "3                          9.0                    10.0                 10.0   \n",
       "4                         10.0                    10.0                 10.0   \n",
       "\n",
       "   license instant_bookable  calculated_host_listings_count  \\\n",
       "0      NaN                f                               2   \n",
       "1      NaN                t                               7   \n",
       "2      NaN                t                               7   \n",
       "3      NaN                t                               7   \n",
       "4      NaN                f                               1   \n",
       "\n",
       "   calculated_host_listings_count_entire_homes  \\\n",
       "0                                            2   \n",
       "1                                            1   \n",
       "2                                            1   \n",
       "3                                            1   \n",
       "4                                            0   \n",
       "\n",
       "   calculated_host_listings_count_private_rooms  \\\n",
       "0                                             0   \n",
       "1                                             2   \n",
       "2                                             2   \n",
       "3                                             2   \n",
       "4                                             1   \n",
       "\n",
       "   calculated_host_listings_count_shared_rooms  reviews_per_month  \n",
       "0                                            0               0.78  \n",
       "1                                            4               2.48  \n",
       "2                                            4               0.58  \n",
       "3                                            4               2.45  \n",
       "4                                            0               0.50  "
      ]
     },
     "execution_count": 18,
     "metadata": {},
     "output_type": "execute_result"
    }
   ],
   "source": [
    "listing.head()"
   ]
  },
  {
   "cell_type": "code",
   "execution_count": 19,
   "metadata": {},
   "outputs": [
    {
     "data": {
      "text/plain": [
       "15073"
      ]
     },
     "execution_count": 19,
     "metadata": {},
     "output_type": "execute_result"
    }
   ],
   "source": [
    "listing.isnull().sum().sum()"
   ]
  },
  {
   "cell_type": "code",
   "execution_count": 20,
   "metadata": {
    "scrolled": true
   },
   "outputs": [
    {
     "data": {
      "text/plain": [
       "id                                                 0\n",
       "listing_url                                        0\n",
       "scrape_id                                          0\n",
       "last_scraped                                       0\n",
       "name                                               0\n",
       "description                                        2\n",
       "neighborhood_overview                            452\n",
       "picture_url                                        0\n",
       "host_id                                            0\n",
       "host_url                                           0\n",
       "host_name                                          0\n",
       "host_since                                         0\n",
       "host_location                                      2\n",
       "host_about                                       732\n",
       "host_response_time                               216\n",
       "host_response_rate                               216\n",
       "host_acceptance_rate                              89\n",
       "host_is_superhost                                  0\n",
       "host_thumbnail_url                                 0\n",
       "host_picture_url                                   0\n",
       "host_neighbourhood                              1850\n",
       "host_listings_count                                0\n",
       "host_total_listings_count                          0\n",
       "host_verifications                                 0\n",
       "host_has_profile_pic                               0\n",
       "host_identity_verified                             0\n",
       "neighbourhood                                    451\n",
       "neighbourhood_cleansed                             0\n",
       "neighbourhood_group_cleansed                    2246\n",
       "latitude                                           0\n",
       "longitude                                          0\n",
       "property_type                                      0\n",
       "room_type                                          0\n",
       "accommodates                                       0\n",
       "bathrooms                                       2246\n",
       "bathrooms_text                                     0\n",
       "bedrooms                                         177\n",
       "beds                                               4\n",
       "amenities                                          0\n",
       "price                                              0\n",
       "minimum_nights                                     0\n",
       "maximum_nights                                     0\n",
       "minimum_minimum_nights                             0\n",
       "maximum_minimum_nights                             0\n",
       "minimum_maximum_nights                             0\n",
       "maximum_maximum_nights                             0\n",
       "minimum_nights_avg_ntm                             0\n",
       "maximum_nights_avg_ntm                             0\n",
       "calendar_updated                                2246\n",
       "has_availability                                   0\n",
       "availability_30                                    0\n",
       "availability_60                                    0\n",
       "availability_90                                    0\n",
       "availability_365                                   0\n",
       "calendar_last_scraped                              0\n",
       "number_of_reviews                                  0\n",
       "number_of_reviews_ltm                              0\n",
       "number_of_reviews_l30d                             0\n",
       "first_review                                     165\n",
       "last_review                                      165\n",
       "review_scores_rating                             167\n",
       "review_scores_accuracy                           206\n",
       "review_scores_cleanliness                        206\n",
       "review_scores_checkin                            206\n",
       "review_scores_communication                      206\n",
       "review_scores_location                           206\n",
       "review_scores_value                              206\n",
       "license                                         2246\n",
       "instant_bookable                                   0\n",
       "calculated_host_listings_count                     0\n",
       "calculated_host_listings_count_entire_homes        0\n",
       "calculated_host_listings_count_private_rooms       0\n",
       "calculated_host_listings_count_shared_rooms        0\n",
       "reviews_per_month                                165\n",
       "dtype: int64"
      ]
     },
     "execution_count": 20,
     "metadata": {},
     "output_type": "execute_result"
    }
   ],
   "source": [
    "listing.isnull().sum()"
   ]
  },
  {
   "cell_type": "markdown",
   "metadata": {},
   "source": [
    "### Dropping Columns"
   ]
  },
  {
   "cell_type": "markdown",
   "metadata": {},
   "source": [
    "Columns with no relevant information"
   ]
  },
  {
   "cell_type": "code",
   "execution_count": 21,
   "metadata": {},
   "outputs": [],
   "source": [
    "listing.drop(columns = ['last_scraped',                         \n",
    "                        'license',\n",
    "                        'host_id',\n",
    "                        'scrape_id',                            \n",
    "                        'listing_url',                          \n",
    "                        'picture_url',                          \n",
    "                        'host_url',                             \n",
    "                        'host_thumbnail_url',                   \n",
    "                        'host_picture_url',                     \n",
    "                        'host_name',                            \n",
    "                        'host_verifications',\n",
    "                        'calendar_last_scraped',\n",
    "                        'host_neighbourhood',\n",
    "                        'host_location',\n",
    "                        'host_response_rate',\n",
    "                        'availability_30',\n",
    "                        'availability_60',\n",
    "                        'availability_90',\n",
    "                        'availability_365',\n",
    "                        'number_of_reviews_ltm',\n",
    "                        'number_of_reviews_l30d',\n",
    "                        'calculated_host_listings_count',\n",
    "                        'calculated_host_listings_count_entire_homes',\n",
    "                        'calculated_host_listings_count_private_rooms',\n",
    "                        'calculated_host_listings_count_shared_rooms'],\n",
    "            inplace = True)"
   ]
  },
  {
   "cell_type": "markdown",
   "metadata": {},
   "source": [
    "All values are nulls"
   ]
  },
  {
   "cell_type": "code",
   "execution_count": 22,
   "metadata": {},
   "outputs": [],
   "source": [
    "listing.drop(columns = ['calendar_updated',                     \n",
    "                        'neighbourhood_group_cleansed',         \n",
    "                        'bathrooms'],\n",
    "            inplace = True)"
   ]
  },
  {
   "cell_type": "markdown",
   "metadata": {},
   "source": [
    "Repeat values from other columns"
   ]
  },
  {
   "cell_type": "code",
   "execution_count": 23,
   "metadata": {},
   "outputs": [],
   "source": [
    "listing.drop(columns = ['minimum_minimum_nights',               \n",
    "                        'maximum_minimum_nights',               \n",
    "                        'minimum_maximum_nights',              \n",
    "                        'maximum_maximum_nights',               \n",
    "                        'minimum_nights_avg_ntm',               \n",
    "                        'maximum_nights_avg_ntm',               \n",
    "                        'neighbourhood',\n",
    "                        'host_total_listings_count',\n",
    "                        'beds',\n",
    "                        'room_type'],                       \n",
    "            inplace = True)"
   ]
  },
  {
   "cell_type": "markdown",
   "metadata": {},
   "source": [
    "Almost all values are the same"
   ]
  },
  {
   "cell_type": "code",
   "execution_count": 24,
   "metadata": {},
   "outputs": [],
   "source": [
    "listing.drop(columns = ['host_has_profile_pic',\n",
    "                        'has_availability'], \n",
    "            inplace = True)"
   ]
  },
  {
   "cell_type": "markdown",
   "metadata": {},
   "source": [
    "Dropping column due to multicollinearity"
   ]
  },
  {
   "cell_type": "code",
   "execution_count": 25,
   "metadata": {},
   "outputs": [],
   "source": [
    "listing.drop(columns = ['host_identity_verified',\n",
    "                        'host_is_superhost'],\n",
    "             inplace = True)"
   ]
  },
  {
   "cell_type": "markdown",
   "metadata": {},
   "source": [
    "### Dropping Nulls"
   ]
  },
  {
   "cell_type": "markdown",
   "metadata": {},
   "source": [
    "The rows with no description are also missing data for many other rows."
   ]
  },
  {
   "cell_type": "code",
   "execution_count": 26,
   "metadata": {},
   "outputs": [],
   "source": [
    "listing.dropna(subset=['description'], inplace = True)"
   ]
  },
  {
   "cell_type": "markdown",
   "metadata": {},
   "source": [
    "Since these rows have no values for these columns, it is implied that they had no reviews."
   ]
  },
  {
   "cell_type": "code",
   "execution_count": 27,
   "metadata": {},
   "outputs": [],
   "source": [
    "listing.dropna(subset=['first_review',\n",
    "                       'last_review',\n",
    "                       'review_scores_rating',\n",
    "                       'review_scores_accuracy',\n",
    "                       'review_scores_cleanliness',\n",
    "                       'review_scores_checkin',\n",
    "                       'review_scores_communication',\n",
    "                       'review_scores_location',\n",
    "                       'review_scores_value'],\n",
    "               inplace = True)"
   ]
  },
  {
   "cell_type": "markdown",
   "metadata": {},
   "source": [
    "### Imputing Nulls"
   ]
  },
  {
   "cell_type": "markdown",
   "metadata": {},
   "source": [
    "Filling the nulls with 'No Content' because there are 452 nulls for 'neighborhood_overview' and 732 nulls for 'host_about'."
   ]
  },
  {
   "cell_type": "code",
   "execution_count": 28,
   "metadata": {},
   "outputs": [],
   "source": [
    "listing['neighborhood_overview'].fillna('No Content', inplace = True)\n",
    "listing['host_about'].fillna('No Content', inplace = True)"
   ]
  },
  {
   "cell_type": "markdown",
   "metadata": {},
   "source": [
    "Filling the null values for 'host_response_time' with 'within a few hours' since that is the most reasonable."
   ]
  },
  {
   "cell_type": "code",
   "execution_count": 29,
   "metadata": {},
   "outputs": [
    {
     "data": {
      "text/plain": [
       "within an hour        1562\n",
       "within a few hours     197\n",
       "within a day            86\n",
       "a few days or more      11\n",
       "Name: host_response_time, dtype: int64"
      ]
     },
     "execution_count": 29,
     "metadata": {},
     "output_type": "execute_result"
    }
   ],
   "source": [
    "listing['host_response_time'].value_counts()"
   ]
  },
  {
   "cell_type": "code",
   "execution_count": 30,
   "metadata": {},
   "outputs": [],
   "source": [
    "listing['host_response_time'].fillna('within a few hours', inplace = True)"
   ]
  },
  {
   "cell_type": "markdown",
   "metadata": {},
   "source": [
    "Filling the null values for 'host_acceptance_rate' with the mean value. First, converting the values from percentages into floats."
   ]
  },
  {
   "cell_type": "code",
   "execution_count": 31,
   "metadata": {},
   "outputs": [],
   "source": [
    "listing['host_acceptance_rate'] = listing['host_acceptance_rate'].str.replace('%', '').astype('float')/100.0"
   ]
  },
  {
   "cell_type": "code",
   "execution_count": 32,
   "metadata": {},
   "outputs": [],
   "source": [
    "avg_acceptance_rate = listing['host_acceptance_rate'].value_counts().mean()"
   ]
  },
  {
   "cell_type": "code",
   "execution_count": 33,
   "metadata": {},
   "outputs": [],
   "source": [
    "listing['host_acceptance_rate'].fillna(avg_acceptance_rate, inplace = True)"
   ]
  },
  {
   "cell_type": "markdown",
   "metadata": {},
   "source": [
    "Filling the null values for 'bedrooms' with '1.0' since that is the most frequent value."
   ]
  },
  {
   "cell_type": "code",
   "execution_count": 34,
   "metadata": {},
   "outputs": [
    {
     "data": {
      "text/plain": [
       "1.0    1016\n",
       "2.0     482\n",
       "3.0     261\n",
       "4.0     102\n",
       "5.0      18\n",
       "6.0      10\n",
       "7.0       3\n",
       "8.0       2\n",
       "Name: bedrooms, dtype: int64"
      ]
     },
     "execution_count": 34,
     "metadata": {},
     "output_type": "execute_result"
    }
   ],
   "source": [
    "listing['bedrooms'].value_counts()"
   ]
  },
  {
   "cell_type": "code",
   "execution_count": 35,
   "metadata": {},
   "outputs": [],
   "source": [
    "listing['bedrooms'].fillna('1.0', inplace = True)"
   ]
  },
  {
   "cell_type": "markdown",
   "metadata": {},
   "source": [
    "## Save clean dataframes"
   ]
  },
  {
   "cell_type": "markdown",
   "metadata": {},
   "source": [
    "Verify all nulls are dealt with."
   ]
  },
  {
   "cell_type": "code",
   "execution_count": 36,
   "metadata": {},
   "outputs": [
    {
     "data": {
      "text/plain": [
       "0"
      ]
     },
     "execution_count": 36,
     "metadata": {},
     "output_type": "execute_result"
    }
   ],
   "source": [
    "listing.isnull().sum().sum()"
   ]
  },
  {
   "cell_type": "code",
   "execution_count": 37,
   "metadata": {},
   "outputs": [
    {
     "data": {
      "text/plain": [
       "0"
      ]
     },
     "execution_count": 37,
     "metadata": {},
     "output_type": "execute_result"
    }
   ],
   "source": [
    "review.isnull().sum().sum()"
   ]
  },
  {
   "cell_type": "markdown",
   "metadata": {},
   "source": [
    "Checking the final amount of columns and rows for the final dataframe."
   ]
  },
  {
   "cell_type": "code",
   "execution_count": 38,
   "metadata": {},
   "outputs": [
    {
     "name": "stdout",
     "output_type": "stream",
     "text": [
      "Shape for Asheville Listings CSV: (2038, 32)\n",
      "Shape for Asheville Reviews CSV: (63073, 3)\n"
     ]
    }
   ],
   "source": [
    "print(f'Shape for Asheville Listings CSV: {listing.shape}')\n",
    "print(f'Shape for Asheville Reviews CSV: {review.shape}')"
   ]
  },
  {
   "cell_type": "markdown",
   "metadata": {},
   "source": [
    "Saving finalized dataframes as new CSV files."
   ]
  },
  {
   "cell_type": "code",
   "execution_count": 39,
   "metadata": {},
   "outputs": [],
   "source": [
    "listing.to_csv('./data/Asheville_Listings_Clean', index = False)\n",
    "review.to_csv('./data/Asheville_Reviews_Clean', index = False)"
   ]
  }
 ],
 "metadata": {
  "kernelspec": {
   "display_name": "Python 3",
   "language": "python",
   "name": "python3"
  },
  "language_info": {
   "codemirror_mode": {
    "name": "ipython",
    "version": 3
   },
   "file_extension": ".py",
   "mimetype": "text/x-python",
   "name": "python",
   "nbconvert_exporter": "python",
   "pygments_lexer": "ipython3",
   "version": "3.8.5"
  }
 },
 "nbformat": 4,
 "nbformat_minor": 4
}
